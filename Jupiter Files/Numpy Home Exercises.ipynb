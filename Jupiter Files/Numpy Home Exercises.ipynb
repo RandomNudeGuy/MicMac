{
 "cells": [
  {
   "cell_type": "code",
   "execution_count": 10,
   "id": "88db4fe7-2abd-44c6-b344-8c3ec738a6bc",
   "metadata": {},
   "outputs": [],
   "source": [
    "import numpy as np"
   ]
  },
  {
   "cell_type": "markdown",
   "id": "dcbf368e-f8e8-4f76-9cf1-5d49915c0a89",
   "metadata": {},
   "source": [
    "Exercise 1:\n",
    "1. Create a NumPy array of size 4x3 and filled with random numbers from 10 to 98 (inclusive). Calculate the sum of all elements, the sum of each row and each column."
   ]
  },
  {
   "cell_type": "code",
   "execution_count": 18,
   "id": "72a8bbfe-28b4-48dc-8c8d-32011dde190d",
   "metadata": {},
   "outputs": [
    {
     "name": "stdout",
     "output_type": "stream",
     "text": [
      "[[98 58 60]\n",
      " [69 52 21]\n",
      " [33 14 17]\n",
      " [82 44 23]]\n",
      "[216 142  64 149]\n",
      "[282 168 121]\n",
      "571\n"
     ]
    }
   ],
   "source": [
    "ex1_array = np.random.randint(10, 99, (4, 3))\n",
    "print(ex1_array)\n",
    "print(ex1_array.sum(axis=1))\n",
    "print(ex1_array.sum(axis=0))\n",
    "print(ex1_array.sum())\n"
   ]
  },
  {
   "cell_type": "markdown",
   "id": "6f3f2527-6e4d-4af3-be72-01d9d178a7b9",
   "metadata": {},
   "source": [
    "Exercise 2:\n",
    "1. Create a NumPy array of size 10 filled with random numbers from 0 to 10. Count how many of them are even numbers."
   ]
  },
  {
   "cell_type": "code",
   "execution_count": 44,
   "id": "f8ecf1cd-3852-480e-af2a-4bd3a031eaaf",
   "metadata": {},
   "outputs": [
    {
     "name": "stdout",
     "output_type": "stream",
     "text": [
      "[4 8 0 7 3 0 9 6 9 7]\n"
     ]
    }
   ],
   "source": [
    "ex2_array = np.random.randint(0, 10, 10)"
   ]
  },
  {
   "cell_type": "code",
   "execution_count": 48,
   "id": "2c54c2ce-0555-4a2f-8910-096868d0e1e9",
   "metadata": {},
   "outputs": [
    {
     "name": "stdout",
     "output_type": "stream",
     "text": [
      "5\n"
     ]
    }
   ],
   "source": [
    "filtered_array = ex2_array[ex2_array % 2 == 0]\n",
    "print(len(filtered_array))"
   ]
  },
  {
   "cell_type": "markdown",
   "id": "e4c5b7ca-5b2f-4094-8b60-08c2da854473",
   "metadata": {},
   "source": [
    "Exercise 3:\n",
    "1. Create a NumPy array of size 100, filled with a sequence of numbers from 0 to 99.\n",
    "2. Reshape this array into 10 rows and 10 columns.\n",
    "3. Replace all values in the array which are greater than 50 with -1.\n",
    "4. Calculate the sum of all elements in the array.\n",
    "5. Calculate the mean of all elements in the array"
   ]
  },
  {
   "cell_type": "code",
   "execution_count": 52,
   "id": "db83ce81-6af5-415e-bd8c-88c75f60c680",
   "metadata": {},
   "outputs": [
    {
     "name": "stdout",
     "output_type": "stream",
     "text": [
      "[59 19 66 20 74  8 54 78 31 74 53 84 17 33  8 76 46 92 43 85 72 33 31 43\n",
      "  6 48 82 26 75 45 82 93 82 76 48 52 39 62 52 57 48 40 19 59 54 10 76 48\n",
      " 39 32 19 59 81 77 22 61  3 24 96 36 63 85 24  7 83 69  0 57 70 81 46 63\n",
      " 38 97 96 23 84 50 84 65  9 69 18 23 87 16 73 95 28 62 73 76  7  4 60 71\n",
      " 11 81 87 77]\n"
     ]
    }
   ],
   "source": [
    "ex3_array = np.random.randint(0, 99, 100)\n",
    "print(ex3_array)"
   ]
  },
  {
   "cell_type": "code",
   "execution_count": 56,
   "id": "0a92377e-698a-4541-9045-0286fa1793d9",
   "metadata": {},
   "outputs": [
    {
     "name": "stdout",
     "output_type": "stream",
     "text": [
      "[[59 19 66 20 74  8 54 78 31 74]\n",
      " [53 84 17 33  8 76 46 92 43 85]\n",
      " [72 33 31 43  6 48 82 26 75 45]\n",
      " [82 93 82 76 48 52 39 62 52 57]\n",
      " [48 40 19 59 54 10 76 48 39 32]\n",
      " [19 59 81 77 22 61  3 24 96 36]\n",
      " [63 85 24  7 83 69  0 57 70 81]\n",
      " [46 63 38 97 96 23 84 50 84 65]\n",
      " [ 9 69 18 23 87 16 73 95 28 62]\n",
      " [73 76  7  4 60 71 11 81 87 77]]\n"
     ]
    }
   ],
   "source": [
    "print(ex3_array.reshape(10, 10))\n"
   ]
  },
  {
   "cell_type": "code",
   "execution_count": 62,
   "id": "6169f261-f0c7-4faa-9a37-f58a132767c3",
   "metadata": {},
   "outputs": [
    {
     "name": "stdout",
     "output_type": "stream",
     "text": [
      "[-1 19 -1 20 -1  8 -1 -1 31 -1 -1 -1 17 33  8 -1 46 -1 43 -1 -1 33 31 43\n",
      "  6 48 -1 26 -1 45 -1 -1 -1 -1 48 -1 39 -1 -1 -1 48 40 19 -1 -1 10 -1 48\n",
      " 39 32 19 -1 -1 -1 22 -1  3 24 -1 36 -1 -1 24  7 -1 -1  0 -1 -1 -1 46 -1\n",
      " 38 -1 -1 23 -1 50 -1 -1  9 -1 18 23 -1 16 -1 -1 28 -1 -1 -1  7  4 -1 -1\n",
      " 11 -1 -1 -1]\n"
     ]
    }
   ],
   "source": [
    "ex3_array[ex3_array > 50] = -1\n",
    "print(ex3_array)"
   ]
  },
  {
   "cell_type": "code",
   "execution_count": 64,
   "id": "773b61f1-af5e-4bdc-8eb0-0c52f632ddd2",
   "metadata": {},
   "outputs": [
    {
     "data": {
      "text/plain": [
       "1133"
      ]
     },
     "execution_count": 64,
     "metadata": {},
     "output_type": "execute_result"
    }
   ],
   "source": [
    "ex3_array.sum()"
   ]
  },
  {
   "cell_type": "code",
   "execution_count": 66,
   "id": "a820e107-7c42-4661-90d9-ba93203bc55f",
   "metadata": {},
   "outputs": [
    {
     "data": {
      "text/plain": [
       "11.33"
      ]
     },
     "execution_count": 66,
     "metadata": {},
     "output_type": "execute_result"
    }
   ],
   "source": [
    "ex3_array.mean()"
   ]
  },
  {
   "cell_type": "markdown",
   "id": "e4e07fda-fcff-41a4-9fb3-b14a18ec26eb",
   "metadata": {},
   "source": [
    "Exercise 4:\n",
    "1. Create an array of 10 elements with numbers between 0 -100 with the same space between each element.\n",
    "2. Generate a new array that has all values from the previous array that are greater than 50 or lower than 20.\n",
    "3. Reshape the array to a matrix array possible, (for example if its possible to reshape the array to 4X3 matrix generate it)"
   ]
  },
  {
   "cell_type": "code",
   "execution_count": 68,
   "id": "12ce7895-b8f5-4ada-8c25-59071aa0f1da",
   "metadata": {},
   "outputs": [
    {
     "name": "stdout",
     "output_type": "stream",
     "text": [
      "[  0.          11.11111111  22.22222222  33.33333333  44.44444444\n",
      "  55.55555556  66.66666667  77.77777778  88.88888889 100.        ]\n"
     ]
    }
   ],
   "source": [
    "ex4_array = np.linspace(0, 100, 10)\n",
    "print(ex4_array)"
   ]
  },
  {
   "cell_type": "code",
   "execution_count": 70,
   "id": "121a761e-11d4-4f64-aafc-d7887f0646fa",
   "metadata": {},
   "outputs": [
    {
     "name": "stdout",
     "output_type": "stream",
     "text": [
      "[  0.          11.11111111  55.55555556  66.66666667  77.77777778\n",
      "  88.88888889 100.        ]\n"
     ]
    }
   ],
   "source": [
    "new_array = ex4_array[(ex4_array > 50) | (ex4_array < 20)]\n",
    "print(new_array)"
   ]
  },
  {
   "cell_type": "code",
   "execution_count": 72,
   "id": "b738b326-7f4e-43c7-bd22-cb220bc25612",
   "metadata": {},
   "outputs": [
    {
     "ename": "ValueError",
     "evalue": "cannot reshape array of size 7 into shape (4,3)",
     "output_type": "error",
     "traceback": [
      "\u001b[0;31m---------------------------------------------------------------------------\u001b[0m",
      "\u001b[0;31mValueError\u001b[0m                                Traceback (most recent call last)",
      "Cell \u001b[0;32mIn[72], line 1\u001b[0m\n\u001b[0;32m----> 1\u001b[0m new_array\u001b[38;5;241m.\u001b[39mreshape(\u001b[38;5;241m4\u001b[39m,\u001b[38;5;241m3\u001b[39m)\n",
      "\u001b[0;31mValueError\u001b[0m: cannot reshape array of size 7 into shape (4,3)"
     ]
    }
   ],
   "source": [
    "new_array.reshape(4,3)"
   ]
  },
  {
   "cell_type": "markdown",
   "id": "d205612b-b8f2-4796-bdca-6b0c0bec444a",
   "metadata": {},
   "source": [
    "Exercise 5:\n",
    "1. Generate a matrix of 4x4 filled with 0, make sure the type of them is int type.\n",
    "2. Change the first element, the last element and the center element to a different random value between 10 - 100."
   ]
  },
  {
   "cell_type": "code",
   "execution_count": 86,
   "id": "dd27f93c-dc7c-4672-8eb5-47a534704c9b",
   "metadata": {},
   "outputs": [
    {
     "name": "stdout",
     "output_type": "stream",
     "text": [
      "[[0 0 0 0]\n",
      " [0 0 0 0]\n",
      " [0 0 0 0]\n",
      " [0 0 0 0]]\n"
     ]
    }
   ],
   "source": [
    "ex5_array = np.zeros((4,4), dtype= int)\n",
    "print(ex5_array)"
   ]
  },
  {
   "cell_type": "code",
   "execution_count": 100,
   "id": "fa005f10-8845-470c-9ce3-9bcc901992f1",
   "metadata": {},
   "outputs": [],
   "source": [
    "ex5_array[0, 0] = np.random.randint(10, 101)\n",
    "ex5_array[3, 3] = np.random.randint(10, 101)\n",
    "ex5_array[1, 3] = np.random.randint(10, 101)"
   ]
  },
  {
   "cell_type": "code",
   "execution_count": 102,
   "id": "b5958e1a-2dd6-4491-a91e-b22f5170c4c6",
   "metadata": {},
   "outputs": [
    {
     "name": "stdout",
     "output_type": "stream",
     "text": [
      "[[28  0  0  0]\n",
      " [ 0  0  0 98]\n",
      " [ 0  0  0  0]\n",
      " [ 0  0  0 22]]\n"
     ]
    }
   ],
   "source": [
    "print(ex5_array)"
   ]
  },
  {
   "cell_type": "code",
   "execution_count": null,
   "id": "60a92205-537c-4ded-8e9e-62d3ff41c980",
   "metadata": {},
   "outputs": [],
   "source": []
  }
 ],
 "metadata": {
  "kernelspec": {
   "display_name": "Python [conda env:base] *",
   "language": "python",
   "name": "conda-base-py"
  },
  "language_info": {
   "codemirror_mode": {
    "name": "ipython",
    "version": 3
   },
   "file_extension": ".py",
   "mimetype": "text/x-python",
   "name": "python",
   "nbconvert_exporter": "python",
   "pygments_lexer": "ipython3",
   "version": "3.12.7"
  }
 },
 "nbformat": 4,
 "nbformat_minor": 5
}
