{
 "cells": [
  {
   "cell_type": "markdown",
   "id": "6e13e2d9-a56e-4d28-8f87-370e584d7cfa",
   "metadata": {},
   "source": [
    "**About Me**"
   ]
  },
  {
   "cell_type": "markdown",
   "id": "5a011061-e8b0-4535-aca6-c8533d5f4ac9",
   "metadata": {},
   "source": [
    "Hello! My name is Jonathan."
   ]
  },
  {
   "cell_type": "markdown",
   "id": "095753a6-d887-4141-8c2c-6a7fdfd1a8bc",
   "metadata": {},
   "source": [
    "I am a student studying Al Development."
   ]
  },
  {
   "cell_type": "markdown",
   "id": "7051e183-df56-49a9-967f-f9eaaf977755",
   "metadata": {},
   "source": [
    "In my free time, I enjoy playing video games."
   ]
  }
 ],
 "metadata": {
  "kernelspec": {
   "display_name": "Python [conda env:base] *",
   "language": "python",
   "name": "conda-base-py"
  },
  "language_info": {
   "codemirror_mode": {
    "name": "ipython",
    "version": 3
   },
   "file_extension": ".py",
   "mimetype": "text/x-python",
   "name": "python",
   "nbconvert_exporter": "python",
   "pygments_lexer": "ipython3",
   "version": "3.12.7"
  }
 },
 "nbformat": 4,
 "nbformat_minor": 5
}
