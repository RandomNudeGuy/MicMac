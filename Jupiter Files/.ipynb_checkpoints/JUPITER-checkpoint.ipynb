{
 "cells": [
  {
   "cell_type": "code",
   "execution_count": 1,
   "id": "8f7c7fd7-34ed-4fd1-933f-263e68e3560e",
   "metadata": {},
   "outputs": [],
   "source": [
    "import numpy as np"
   ]
  },
  {
   "cell_type": "code",
   "execution_count": 79,
   "id": "3218d0b7-93ac-40c1-8de4-599e3cae3482",
   "metadata": {},
   "outputs": [],
   "source": [
    "np.random.seed(101)"
   ]
  },
  {
   "cell_type": "code",
   "execution_count": 81,
   "id": "58a95058-e61a-4590-a230-dc40858db578",
   "metadata": {},
   "outputs": [
    {
     "name": "stdout",
     "output_type": "stream",
     "text": [
      "[[95 11 81 70 63]\n",
      " [87 75  9 77 40]\n",
      " [ 4 63 40 60 92]\n",
      " [64  5 12 93 40]\n",
      " [49 83  8 29 59]]\n"
     ]
    }
   ],
   "source": [
    "array = np.random.randint(0, 100, (5,5))\n",
    "print(array)"
   ]
  },
  {
   "cell_type": "code",
   "execution_count": 83,
   "id": "9364f775-e009-4137-bfd8-08dd3cd60946",
   "metadata": {},
   "outputs": [
    {
     "name": "stdout",
     "output_type": "stream",
     "text": [
      "[320 288 259 214 228]\n"
     ]
    }
   ],
   "source": [
    "print(array.sum(axis=1))"
   ]
  },
  {
   "cell_type": "code",
   "execution_count": 85,
   "id": "f6ad15cc-62c5-4235-899b-1221459163b2",
   "metadata": {},
   "outputs": [
    {
     "name": "stdout",
     "output_type": "stream",
     "text": [
      "[11  9  4  5  8]\n"
     ]
    }
   ],
   "source": [
    "print(array.min(axis=1))"
   ]
  },
  {
   "cell_type": "code",
   "execution_count": 87,
   "id": "9718312d-6b12-4b93-aac9-ae76b492154a",
   "metadata": {},
   "outputs": [
    {
     "name": "stdout",
     "output_type": "stream",
     "text": [
      "[95 87 92 93 83]\n"
     ]
    }
   ],
   "source": [
    "print(array.max(axis=1))"
   ]
  },
  {
   "cell_type": "code",
   "execution_count": 89,
   "id": "7dc02c25-c5de-4aae-a7fe-9d53ec4d1862",
   "metadata": {},
   "outputs": [
    {
     "name": "stdout",
     "output_type": "stream",
     "text": [
      "[64.  57.6 51.8 42.8 45.6]\n"
     ]
    }
   ],
   "source": [
    "print(array.mean(axis=1))"
   ]
  },
  {
   "cell_type": "code",
   "execution_count": 91,
   "id": "63cebf62-1682-421f-b03c-081f728dcc9e",
   "metadata": {},
   "outputs": [
    {
     "name": "stdout",
     "output_type": "stream",
     "text": [
      "[70. 75. 60. 40. 49.]\n"
     ]
    }
   ],
   "source": [
    "print(np.median(array, axis=1))"
   ]
  },
  {
   "cell_type": "code",
   "execution_count": 99,
   "id": "56171b39-e5ac-4eb0-9472-64043427e258",
   "metadata": {},
   "outputs": [
    {
     "name": "stdout",
     "output_type": "stream",
     "text": [
      "[95 11 81 70 63 87 75 77 40 63 40 60 92 64 12 93 40 49 83 29 59]\n"
     ]
    }
   ],
   "source": [
    "new_array = array.copy()\n",
    "print(new_array[new_array > 10])"
   ]
  },
  {
   "cell_type": "code",
   "execution_count": null,
   "id": "59284cbf-c228-4769-9c30-9e0d3b6c0154",
   "metadata": {},
   "outputs": [],
   "source": []
  },
  {
   "cell_type": "code",
   "execution_count": null,
   "id": "bd11d5de-19da-4332-88ae-5126f9d99ed5",
   "metadata": {},
   "outputs": [],
   "source": []
  }
 ],
 "metadata": {
  "kernelspec": {
   "display_name": "Python [conda env:base] *",
   "language": "python",
   "name": "conda-base-py"
  },
  "language_info": {
   "codemirror_mode": {
    "name": "ipython",
    "version": 3
   },
   "file_extension": ".py",
   "mimetype": "text/x-python",
   "name": "python",
   "nbconvert_exporter": "python",
   "pygments_lexer": "ipython3",
   "version": "3.12.7"
  }
 },
 "nbformat": 4,
 "nbformat_minor": 5
}
