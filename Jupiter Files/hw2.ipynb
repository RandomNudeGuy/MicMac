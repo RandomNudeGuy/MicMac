{
 "cells": [
  {
   "cell_type": "code",
   "execution_count": 2,
   "id": "ef9f42da-aa88-45b5-a3a2-ed3ae8d9c15b",
   "metadata": {},
   "outputs": [],
   "source": [
    "import pandas as pd\n",
    "import numpy as np"
   ]
  },
  {
   "cell_type": "code",
   "execution_count": 4,
   "id": "df040934-8dd0-4f75-a2fc-4149895aed3d",
   "metadata": {},
   "outputs": [],
   "source": [
    "products_df = pd.DataFrame({\n",
    "'Product_ID': [1, 2, 3],\n",
    "'Product_Name': ['iPhone 12', 'Samsung S21', 'Pixel 5'],\n",
    "'Product_Price': [999, 899, 699],\n",
    "})\n",
    "sales_df = pd.DataFrame({\n",
    "'Sale_ID': [1, 2, 3, 4, 5, 6, 7],\n",
    "'Sale_Date': pd.to_datetime(['2021-01-01', '2021-02-01', '2021-02-15', '2020-03-01', '2020-04-01',\n",
    "'2020-02-15', '2020-01-01']),\n",
    "'Customer_ID': [1, 2, 3, 2, 3, 4, 4],\n",
    "'Product_ID': [1, 1, 2, 2, 3, 3, 1],\n",
    "})\n",
    "customers_df = pd.DataFrame({\n",
    "'Customer_ID': [1, 2, 3, 4],\n",
    "'Customer_Name': ['John Doe', 'Jane Doe', 'Jim Brown', 'Jake Smith'],\n",
    "'Customer_Age': [25, 30, 35, 20],\n",
    "'Customer_Email': ['john@doe.com', 'jane@doe.com', 'jim@brown.com', 'jake@smith.com'],\n",
    "})"
   ]
  },
  {
   "cell_type": "markdown",
   "id": "0dd8aa4b-9d43-4f3e-871f-77bcc435eb07",
   "metadata": {},
   "source": [
    "**For each product calculate the number of customers that bought it and their average age\n",
    "For example → For product ‘iPhone’ customer count was: 2 and average customer age was: 25**"
   ]
  },
  {
   "cell_type": "code",
   "execution_count": 9,
   "id": "2466ee00-4edc-47ad-be0f-0d8cbdec58d0",
   "metadata": {},
   "outputs": [
    {
     "data": {
      "text/html": [
       "<div>\n",
       "<style scoped>\n",
       "    .dataframe tbody tr th:only-of-type {\n",
       "        vertical-align: middle;\n",
       "    }\n",
       "\n",
       "    .dataframe tbody tr th {\n",
       "        vertical-align: top;\n",
       "    }\n",
       "\n",
       "    .dataframe thead th {\n",
       "        text-align: right;\n",
       "    }\n",
       "</style>\n",
       "<table border=\"1\" class=\"dataframe\">\n",
       "  <thead>\n",
       "    <tr style=\"text-align: right;\">\n",
       "      <th></th>\n",
       "      <th>Product_ID</th>\n",
       "      <th>Product_Name</th>\n",
       "      <th>Product_Price</th>\n",
       "    </tr>\n",
       "  </thead>\n",
       "  <tbody>\n",
       "    <tr>\n",
       "      <th>0</th>\n",
       "      <td>1</td>\n",
       "      <td>iPhone 12</td>\n",
       "      <td>999</td>\n",
       "    </tr>\n",
       "    <tr>\n",
       "      <th>1</th>\n",
       "      <td>2</td>\n",
       "      <td>Samsung S21</td>\n",
       "      <td>899</td>\n",
       "    </tr>\n",
       "    <tr>\n",
       "      <th>2</th>\n",
       "      <td>3</td>\n",
       "      <td>Pixel 5</td>\n",
       "      <td>699</td>\n",
       "    </tr>\n",
       "  </tbody>\n",
       "</table>\n",
       "</div>"
      ],
      "text/plain": [
       "   Product_ID Product_Name  Product_Price\n",
       "0           1    iPhone 12            999\n",
       "1           2  Samsung S21            899\n",
       "2           3      Pixel 5            699"
      ]
     },
     "execution_count": 9,
     "metadata": {},
     "output_type": "execute_result"
    }
   ],
   "source": [
    "products_df"
   ]
  },
  {
   "cell_type": "code",
   "execution_count": 11,
   "id": "2d116852-8416-43c6-abf8-0a53a33ebbfc",
   "metadata": {},
   "outputs": [
    {
     "data": {
      "text/html": [
       "<div>\n",
       "<style scoped>\n",
       "    .dataframe tbody tr th:only-of-type {\n",
       "        vertical-align: middle;\n",
       "    }\n",
       "\n",
       "    .dataframe tbody tr th {\n",
       "        vertical-align: top;\n",
       "    }\n",
       "\n",
       "    .dataframe thead th {\n",
       "        text-align: right;\n",
       "    }\n",
       "</style>\n",
       "<table border=\"1\" class=\"dataframe\">\n",
       "  <thead>\n",
       "    <tr style=\"text-align: right;\">\n",
       "      <th></th>\n",
       "      <th>Sale_ID</th>\n",
       "      <th>Sale_Date</th>\n",
       "      <th>Customer_ID</th>\n",
       "      <th>Product_ID</th>\n",
       "    </tr>\n",
       "  </thead>\n",
       "  <tbody>\n",
       "    <tr>\n",
       "      <th>0</th>\n",
       "      <td>1</td>\n",
       "      <td>2021-01-01</td>\n",
       "      <td>1</td>\n",
       "      <td>1</td>\n",
       "    </tr>\n",
       "    <tr>\n",
       "      <th>1</th>\n",
       "      <td>2</td>\n",
       "      <td>2021-02-01</td>\n",
       "      <td>2</td>\n",
       "      <td>1</td>\n",
       "    </tr>\n",
       "    <tr>\n",
       "      <th>2</th>\n",
       "      <td>3</td>\n",
       "      <td>2021-02-15</td>\n",
       "      <td>3</td>\n",
       "      <td>2</td>\n",
       "    </tr>\n",
       "    <tr>\n",
       "      <th>3</th>\n",
       "      <td>4</td>\n",
       "      <td>2020-03-01</td>\n",
       "      <td>2</td>\n",
       "      <td>2</td>\n",
       "    </tr>\n",
       "    <tr>\n",
       "      <th>4</th>\n",
       "      <td>5</td>\n",
       "      <td>2020-04-01</td>\n",
       "      <td>3</td>\n",
       "      <td>3</td>\n",
       "    </tr>\n",
       "    <tr>\n",
       "      <th>5</th>\n",
       "      <td>6</td>\n",
       "      <td>2020-02-15</td>\n",
       "      <td>4</td>\n",
       "      <td>3</td>\n",
       "    </tr>\n",
       "    <tr>\n",
       "      <th>6</th>\n",
       "      <td>7</td>\n",
       "      <td>2020-01-01</td>\n",
       "      <td>4</td>\n",
       "      <td>1</td>\n",
       "    </tr>\n",
       "  </tbody>\n",
       "</table>\n",
       "</div>"
      ],
      "text/plain": [
       "   Sale_ID  Sale_Date  Customer_ID  Product_ID\n",
       "0        1 2021-01-01            1           1\n",
       "1        2 2021-02-01            2           1\n",
       "2        3 2021-02-15            3           2\n",
       "3        4 2020-03-01            2           2\n",
       "4        5 2020-04-01            3           3\n",
       "5        6 2020-02-15            4           3\n",
       "6        7 2020-01-01            4           1"
      ]
     },
     "execution_count": 11,
     "metadata": {},
     "output_type": "execute_result"
    }
   ],
   "source": [
    "sales_df"
   ]
  },
  {
   "cell_type": "code",
   "execution_count": 14,
   "id": "59e6d13d-4d48-4ad8-a443-2dc18916243a",
   "metadata": {},
   "outputs": [
    {
     "data": {
      "text/html": [
       "<div>\n",
       "<style scoped>\n",
       "    .dataframe tbody tr th:only-of-type {\n",
       "        vertical-align: middle;\n",
       "    }\n",
       "\n",
       "    .dataframe tbody tr th {\n",
       "        vertical-align: top;\n",
       "    }\n",
       "\n",
       "    .dataframe thead th {\n",
       "        text-align: right;\n",
       "    }\n",
       "</style>\n",
       "<table border=\"1\" class=\"dataframe\">\n",
       "  <thead>\n",
       "    <tr style=\"text-align: right;\">\n",
       "      <th></th>\n",
       "      <th>Customer_ID</th>\n",
       "      <th>Customer_Name</th>\n",
       "      <th>Customer_Age</th>\n",
       "      <th>Customer_Email</th>\n",
       "    </tr>\n",
       "  </thead>\n",
       "  <tbody>\n",
       "    <tr>\n",
       "      <th>0</th>\n",
       "      <td>1</td>\n",
       "      <td>John Doe</td>\n",
       "      <td>25</td>\n",
       "      <td>john@doe.com</td>\n",
       "    </tr>\n",
       "    <tr>\n",
       "      <th>1</th>\n",
       "      <td>2</td>\n",
       "      <td>Jane Doe</td>\n",
       "      <td>30</td>\n",
       "      <td>jane@doe.com</td>\n",
       "    </tr>\n",
       "    <tr>\n",
       "      <th>2</th>\n",
       "      <td>3</td>\n",
       "      <td>Jim Brown</td>\n",
       "      <td>35</td>\n",
       "      <td>jim@brown.com</td>\n",
       "    </tr>\n",
       "    <tr>\n",
       "      <th>3</th>\n",
       "      <td>4</td>\n",
       "      <td>Jake Smith</td>\n",
       "      <td>20</td>\n",
       "      <td>jake@smith.com</td>\n",
       "    </tr>\n",
       "  </tbody>\n",
       "</table>\n",
       "</div>"
      ],
      "text/plain": [
       "   Customer_ID Customer_Name  Customer_Age  Customer_Email\n",
       "0            1      John Doe            25    john@doe.com\n",
       "1            2      Jane Doe            30    jane@doe.com\n",
       "2            3     Jim Brown            35   jim@brown.com\n",
       "3            4    Jake Smith            20  jake@smith.com"
      ]
     },
     "execution_count": 14,
     "metadata": {},
     "output_type": "execute_result"
    }
   ],
   "source": [
    "customers_df"
   ]
  },
  {
   "cell_type": "code",
   "execution_count": 26,
   "id": "0888186a-84a5-4b49-a63c-e9b215b808b6",
   "metadata": {},
   "outputs": [],
   "source": [
    "merge = pd.merge(products_df, sales_df, on=\"Product_ID\")"
   ]
  },
  {
   "cell_type": "code",
   "execution_count": 28,
   "id": "a90f64e9-9046-4c81-bc48-96dfe9fba90f",
   "metadata": {},
   "outputs": [
    {
     "data": {
      "text/html": [
       "<div>\n",
       "<style scoped>\n",
       "    .dataframe tbody tr th:only-of-type {\n",
       "        vertical-align: middle;\n",
       "    }\n",
       "\n",
       "    .dataframe tbody tr th {\n",
       "        vertical-align: top;\n",
       "    }\n",
       "\n",
       "    .dataframe thead th {\n",
       "        text-align: right;\n",
       "    }\n",
       "</style>\n",
       "<table border=\"1\" class=\"dataframe\">\n",
       "  <thead>\n",
       "    <tr style=\"text-align: right;\">\n",
       "      <th></th>\n",
       "      <th>Product_ID</th>\n",
       "      <th>Product_Name</th>\n",
       "      <th>Product_Price</th>\n",
       "      <th>Sale_ID</th>\n",
       "      <th>Sale_Date</th>\n",
       "      <th>Customer_ID</th>\n",
       "    </tr>\n",
       "  </thead>\n",
       "  <tbody>\n",
       "    <tr>\n",
       "      <th>0</th>\n",
       "      <td>1</td>\n",
       "      <td>iPhone 12</td>\n",
       "      <td>999</td>\n",
       "      <td>1</td>\n",
       "      <td>2021-01-01</td>\n",
       "      <td>1</td>\n",
       "    </tr>\n",
       "    <tr>\n",
       "      <th>1</th>\n",
       "      <td>1</td>\n",
       "      <td>iPhone 12</td>\n",
       "      <td>999</td>\n",
       "      <td>2</td>\n",
       "      <td>2021-02-01</td>\n",
       "      <td>2</td>\n",
       "    </tr>\n",
       "    <tr>\n",
       "      <th>2</th>\n",
       "      <td>1</td>\n",
       "      <td>iPhone 12</td>\n",
       "      <td>999</td>\n",
       "      <td>7</td>\n",
       "      <td>2020-01-01</td>\n",
       "      <td>4</td>\n",
       "    </tr>\n",
       "    <tr>\n",
       "      <th>3</th>\n",
       "      <td>2</td>\n",
       "      <td>Samsung S21</td>\n",
       "      <td>899</td>\n",
       "      <td>3</td>\n",
       "      <td>2021-02-15</td>\n",
       "      <td>3</td>\n",
       "    </tr>\n",
       "    <tr>\n",
       "      <th>4</th>\n",
       "      <td>2</td>\n",
       "      <td>Samsung S21</td>\n",
       "      <td>899</td>\n",
       "      <td>4</td>\n",
       "      <td>2020-03-01</td>\n",
       "      <td>2</td>\n",
       "    </tr>\n",
       "    <tr>\n",
       "      <th>5</th>\n",
       "      <td>3</td>\n",
       "      <td>Pixel 5</td>\n",
       "      <td>699</td>\n",
       "      <td>5</td>\n",
       "      <td>2020-04-01</td>\n",
       "      <td>3</td>\n",
       "    </tr>\n",
       "    <tr>\n",
       "      <th>6</th>\n",
       "      <td>3</td>\n",
       "      <td>Pixel 5</td>\n",
       "      <td>699</td>\n",
       "      <td>6</td>\n",
       "      <td>2020-02-15</td>\n",
       "      <td>4</td>\n",
       "    </tr>\n",
       "  </tbody>\n",
       "</table>\n",
       "</div>"
      ],
      "text/plain": [
       "   Product_ID Product_Name  Product_Price  Sale_ID  Sale_Date  Customer_ID\n",
       "0           1    iPhone 12            999        1 2021-01-01            1\n",
       "1           1    iPhone 12            999        2 2021-02-01            2\n",
       "2           1    iPhone 12            999        7 2020-01-01            4\n",
       "3           2  Samsung S21            899        3 2021-02-15            3\n",
       "4           2  Samsung S21            899        4 2020-03-01            2\n",
       "5           3      Pixel 5            699        5 2020-04-01            3\n",
       "6           3      Pixel 5            699        6 2020-02-15            4"
      ]
     },
     "execution_count": 28,
     "metadata": {},
     "output_type": "execute_result"
    }
   ],
   "source": [
    "merge\n"
   ]
  },
  {
   "cell_type": "code",
   "execution_count": 30,
   "id": "62ced04c-1c1c-478a-8af2-1ece30eef8f5",
   "metadata": {},
   "outputs": [],
   "source": [
    "super_merge = pd.merge(merge, customers_df, on='Customer_ID')"
   ]
  },
  {
   "cell_type": "code",
   "execution_count": 32,
   "id": "35c31f7a-afe4-406f-871f-1b7aa7957457",
   "metadata": {},
   "outputs": [
    {
     "data": {
      "text/html": [
       "<div>\n",
       "<style scoped>\n",
       "    .dataframe tbody tr th:only-of-type {\n",
       "        vertical-align: middle;\n",
       "    }\n",
       "\n",
       "    .dataframe tbody tr th {\n",
       "        vertical-align: top;\n",
       "    }\n",
       "\n",
       "    .dataframe thead th {\n",
       "        text-align: right;\n",
       "    }\n",
       "</style>\n",
       "<table border=\"1\" class=\"dataframe\">\n",
       "  <thead>\n",
       "    <tr style=\"text-align: right;\">\n",
       "      <th></th>\n",
       "      <th>Product_ID</th>\n",
       "      <th>Product_Name</th>\n",
       "      <th>Product_Price</th>\n",
       "      <th>Sale_ID</th>\n",
       "      <th>Sale_Date</th>\n",
       "      <th>Customer_ID</th>\n",
       "      <th>Customer_Name</th>\n",
       "      <th>Customer_Age</th>\n",
       "      <th>Customer_Email</th>\n",
       "    </tr>\n",
       "  </thead>\n",
       "  <tbody>\n",
       "    <tr>\n",
       "      <th>0</th>\n",
       "      <td>1</td>\n",
       "      <td>iPhone 12</td>\n",
       "      <td>999</td>\n",
       "      <td>1</td>\n",
       "      <td>2021-01-01</td>\n",
       "      <td>1</td>\n",
       "      <td>John Doe</td>\n",
       "      <td>25</td>\n",
       "      <td>john@doe.com</td>\n",
       "    </tr>\n",
       "    <tr>\n",
       "      <th>1</th>\n",
       "      <td>1</td>\n",
       "      <td>iPhone 12</td>\n",
       "      <td>999</td>\n",
       "      <td>2</td>\n",
       "      <td>2021-02-01</td>\n",
       "      <td>2</td>\n",
       "      <td>Jane Doe</td>\n",
       "      <td>30</td>\n",
       "      <td>jane@doe.com</td>\n",
       "    </tr>\n",
       "    <tr>\n",
       "      <th>2</th>\n",
       "      <td>1</td>\n",
       "      <td>iPhone 12</td>\n",
       "      <td>999</td>\n",
       "      <td>7</td>\n",
       "      <td>2020-01-01</td>\n",
       "      <td>4</td>\n",
       "      <td>Jake Smith</td>\n",
       "      <td>20</td>\n",
       "      <td>jake@smith.com</td>\n",
       "    </tr>\n",
       "    <tr>\n",
       "      <th>3</th>\n",
       "      <td>2</td>\n",
       "      <td>Samsung S21</td>\n",
       "      <td>899</td>\n",
       "      <td>3</td>\n",
       "      <td>2021-02-15</td>\n",
       "      <td>3</td>\n",
       "      <td>Jim Brown</td>\n",
       "      <td>35</td>\n",
       "      <td>jim@brown.com</td>\n",
       "    </tr>\n",
       "    <tr>\n",
       "      <th>4</th>\n",
       "      <td>2</td>\n",
       "      <td>Samsung S21</td>\n",
       "      <td>899</td>\n",
       "      <td>4</td>\n",
       "      <td>2020-03-01</td>\n",
       "      <td>2</td>\n",
       "      <td>Jane Doe</td>\n",
       "      <td>30</td>\n",
       "      <td>jane@doe.com</td>\n",
       "    </tr>\n",
       "    <tr>\n",
       "      <th>5</th>\n",
       "      <td>3</td>\n",
       "      <td>Pixel 5</td>\n",
       "      <td>699</td>\n",
       "      <td>5</td>\n",
       "      <td>2020-04-01</td>\n",
       "      <td>3</td>\n",
       "      <td>Jim Brown</td>\n",
       "      <td>35</td>\n",
       "      <td>jim@brown.com</td>\n",
       "    </tr>\n",
       "    <tr>\n",
       "      <th>6</th>\n",
       "      <td>3</td>\n",
       "      <td>Pixel 5</td>\n",
       "      <td>699</td>\n",
       "      <td>6</td>\n",
       "      <td>2020-02-15</td>\n",
       "      <td>4</td>\n",
       "      <td>Jake Smith</td>\n",
       "      <td>20</td>\n",
       "      <td>jake@smith.com</td>\n",
       "    </tr>\n",
       "  </tbody>\n",
       "</table>\n",
       "</div>"
      ],
      "text/plain": [
       "   Product_ID Product_Name  Product_Price  Sale_ID  Sale_Date  Customer_ID  \\\n",
       "0           1    iPhone 12            999        1 2021-01-01            1   \n",
       "1           1    iPhone 12            999        2 2021-02-01            2   \n",
       "2           1    iPhone 12            999        7 2020-01-01            4   \n",
       "3           2  Samsung S21            899        3 2021-02-15            3   \n",
       "4           2  Samsung S21            899        4 2020-03-01            2   \n",
       "5           3      Pixel 5            699        5 2020-04-01            3   \n",
       "6           3      Pixel 5            699        6 2020-02-15            4   \n",
       "\n",
       "  Customer_Name  Customer_Age  Customer_Email  \n",
       "0      John Doe            25    john@doe.com  \n",
       "1      Jane Doe            30    jane@doe.com  \n",
       "2    Jake Smith            20  jake@smith.com  \n",
       "3     Jim Brown            35   jim@brown.com  \n",
       "4      Jane Doe            30    jane@doe.com  \n",
       "5     Jim Brown            35   jim@brown.com  \n",
       "6    Jake Smith            20  jake@smith.com  "
      ]
     },
     "execution_count": 32,
     "metadata": {},
     "output_type": "execute_result"
    }
   ],
   "source": [
    "super_merge"
   ]
  },
  {
   "cell_type": "code",
   "execution_count": 54,
   "id": "b0863440-6df4-4984-9551-1694c42c5bb9",
   "metadata": {},
   "outputs": [
    {
     "data": {
      "text/plain": [
       "Product_Name\n",
       "Pixel 5        27.5\n",
       "Samsung S21    32.5\n",
       "iPhone 12      25.0\n",
       "Name: Customer_Age, dtype: float64"
      ]
     },
     "execution_count": 54,
     "metadata": {},
     "output_type": "execute_result"
    }
   ],
   "source": [
    "super_merge.groupby('Product_Name')['Customer_Age'].mean()"
   ]
  },
  {
   "cell_type": "code",
   "execution_count": 46,
   "id": "e5fd9aa5-3784-458a-a43c-c1e6a1fff233",
   "metadata": {},
   "outputs": [
    {
     "data": {
      "text/plain": [
       "Product_Name\n",
       "Pixel 5        2\n",
       "Samsung S21    2\n",
       "iPhone 12      3\n",
       "Name: Sale_ID, dtype: int64"
      ]
     },
     "execution_count": 46,
     "metadata": {},
     "output_type": "execute_result"
    }
   ],
   "source": [
    "super_merge.groupby('Product_Name')['Sale_ID'].count()"
   ]
  },
  {
   "cell_type": "code",
   "execution_count": 66,
   "id": "4ae9890c-6959-47c2-b81b-ebcd6ee58cb6",
   "metadata": {},
   "outputs": [
    {
     "data": {
      "text/html": [
       "<div>\n",
       "<style scoped>\n",
       "    .dataframe tbody tr th:only-of-type {\n",
       "        vertical-align: middle;\n",
       "    }\n",
       "\n",
       "    .dataframe tbody tr th {\n",
       "        vertical-align: top;\n",
       "    }\n",
       "\n",
       "    .dataframe thead th {\n",
       "        text-align: right;\n",
       "    }\n",
       "</style>\n",
       "<table border=\"1\" class=\"dataframe\">\n",
       "  <thead>\n",
       "    <tr style=\"text-align: right;\">\n",
       "      <th></th>\n",
       "      <th>customer_count</th>\n",
       "      <th>mean_age</th>\n",
       "    </tr>\n",
       "    <tr>\n",
       "      <th>Product_Name</th>\n",
       "      <th></th>\n",
       "      <th></th>\n",
       "    </tr>\n",
       "  </thead>\n",
       "  <tbody>\n",
       "    <tr>\n",
       "      <th>Pixel 5</th>\n",
       "      <td>2</td>\n",
       "      <td>27.5</td>\n",
       "    </tr>\n",
       "    <tr>\n",
       "      <th>Samsung S21</th>\n",
       "      <td>2</td>\n",
       "      <td>32.5</td>\n",
       "    </tr>\n",
       "    <tr>\n",
       "      <th>iPhone 12</th>\n",
       "      <td>3</td>\n",
       "      <td>25.0</td>\n",
       "    </tr>\n",
       "  </tbody>\n",
       "</table>\n",
       "</div>"
      ],
      "text/plain": [
       "              customer_count  mean_age\n",
       "Product_Name                          \n",
       "Pixel 5                    2      27.5\n",
       "Samsung S21                2      32.5\n",
       "iPhone 12                  3      25.0"
      ]
     },
     "execution_count": 66,
     "metadata": {},
     "output_type": "execute_result"
    }
   ],
   "source": [
    "products_customer_sales = super_merge.groupby(\"Product_Name\").agg(\n",
    "    customer_count = (\"Customer_ID\", \"count\"),\n",
    "    mean_age = (\"Customer_Age\",\"mean\")\n",
    ")\n",
    "products_customer_sales"
   ]
  },
  {
   "cell_type": "markdown",
   "id": "d4283e4d-4d2e-4027-bab8-d75c9222ee99",
   "metadata": {},
   "source": [
    "**For each year calculate the total sales for each product for that year\n",
    "For example → For year ‘2020’, for product ‘iPhone’ the number of sales was 1**"
   ]
  },
  {
   "cell_type": "code",
   "execution_count": 86,
   "id": "a3466225-9a22-4cb0-9e6f-a5a59e381a51",
   "metadata": {},
   "outputs": [],
   "source": [
    "super_merge['Sale_Date'] = pd.to_datetime(super_merge['Sale_Date'])"
   ]
  },
  {
   "cell_type": "code",
   "execution_count": 75,
   "id": "9572e1e4-3880-46aa-a83f-1c588de25c97",
   "metadata": {},
   "outputs": [],
   "source": [
    "super_merge['Sale_Date'] = datetime_sale_date"
   ]
  },
  {
   "cell_type": "code",
   "execution_count": 90,
   "id": "1a4839c0-8b6e-4ba7-8908-9da2cd309eb9",
   "metadata": {
    "scrolled": true
   },
   "outputs": [
    {
     "data": {
      "text/plain": [
       "pandas.core.series.Series"
      ]
     },
     "execution_count": 90,
     "metadata": {},
     "output_type": "execute_result"
    }
   ],
   "source": [
    "type(super_merge['Sale_Date'])"
   ]
  },
  {
   "cell_type": "code",
   "execution_count": 94,
   "id": "cb1da957-9e37-4f20-8141-5ee05321a38c",
   "metadata": {},
   "outputs": [],
   "source": [
    "super_duper_merge = super_merge.copy()"
   ]
  },
  {
   "cell_type": "code",
   "execution_count": 96,
   "id": "6321f898-85b3-4fb9-90c3-23d6617e74d2",
   "metadata": {},
   "outputs": [],
   "source": [
    "super_duper_merge.set_index(\"Sale_Date\", inplace=True)"
   ]
  },
  {
   "cell_type": "code",
   "execution_count": 193,
   "id": "a97c0619-820a-4f3e-9ccd-150d1f3dee10",
   "metadata": {},
   "outputs": [],
   "source": [
    "total_sales = super_duper_merge.resample(rule='YE')['Product_Name'].count()"
   ]
  },
  {
   "cell_type": "code",
   "execution_count": 195,
   "id": "a29d56d8-16a6-42d5-90b1-6eb9a6f7e894",
   "metadata": {},
   "outputs": [
    {
     "data": {
      "text/html": [
       "<div>\n",
       "<style scoped>\n",
       "    .dataframe tbody tr th:only-of-type {\n",
       "        vertical-align: middle;\n",
       "    }\n",
       "\n",
       "    .dataframe tbody tr th {\n",
       "        vertical-align: top;\n",
       "    }\n",
       "\n",
       "    .dataframe thead th {\n",
       "        text-align: right;\n",
       "    }\n",
       "</style>\n",
       "<table border=\"1\" class=\"dataframe\">\n",
       "  <thead>\n",
       "    <tr style=\"text-align: right;\">\n",
       "      <th></th>\n",
       "      <th></th>\n",
       "      <th>Product_ID</th>\n",
       "      <th>Product_Price</th>\n",
       "      <th>Sale_ID</th>\n",
       "      <th>Sale_Date</th>\n",
       "      <th>Customer_ID</th>\n",
       "      <th>Customer_Name</th>\n",
       "      <th>Customer_Age</th>\n",
       "      <th>Customer_Email</th>\n",
       "    </tr>\n",
       "    <tr>\n",
       "      <th>Product_Name</th>\n",
       "      <th>Product_Name</th>\n",
       "      <th></th>\n",
       "      <th></th>\n",
       "      <th></th>\n",
       "      <th></th>\n",
       "      <th></th>\n",
       "      <th></th>\n",
       "      <th></th>\n",
       "      <th></th>\n",
       "    </tr>\n",
       "  </thead>\n",
       "  <tbody>\n",
       "  </tbody>\n",
       "</table>\n",
       "</div>"
      ],
      "text/plain": [
       "Empty DataFrame\n",
       "Columns: [Product_ID, Product_Price, Sale_ID, Sale_Date, Customer_ID, Customer_Name, Customer_Age, Customer_Email]\n",
       "Index: []"
      ]
     },
     "execution_count": 195,
     "metadata": {},
     "output_type": "execute_result"
    }
   ],
   "source": [
    "super_merge.groupby(['Product_Name', total_sales]).count()"
   ]
  },
  {
   "cell_type": "code",
   "execution_count": 102,
   "id": "3120f328-df8c-48d8-8981-be837cdce316",
   "metadata": {},
   "outputs": [
    {
     "data": {
      "text/html": [
       "<div>\n",
       "<style scoped>\n",
       "    .dataframe tbody tr th:only-of-type {\n",
       "        vertical-align: middle;\n",
       "    }\n",
       "\n",
       "    .dataframe tbody tr th {\n",
       "        vertical-align: top;\n",
       "    }\n",
       "\n",
       "    .dataframe thead th {\n",
       "        text-align: right;\n",
       "    }\n",
       "</style>\n",
       "<table border=\"1\" class=\"dataframe\">\n",
       "  <thead>\n",
       "    <tr style=\"text-align: right;\">\n",
       "      <th></th>\n",
       "      <th>Product_ID</th>\n",
       "      <th>Product_Name</th>\n",
       "      <th>Product_Price</th>\n",
       "      <th>Sale_ID</th>\n",
       "      <th>Customer_ID</th>\n",
       "      <th>Customer_Name</th>\n",
       "      <th>Customer_Age</th>\n",
       "      <th>Customer_Email</th>\n",
       "    </tr>\n",
       "    <tr>\n",
       "      <th>Sale_Date</th>\n",
       "      <th></th>\n",
       "      <th></th>\n",
       "      <th></th>\n",
       "      <th></th>\n",
       "      <th></th>\n",
       "      <th></th>\n",
       "      <th></th>\n",
       "      <th></th>\n",
       "    </tr>\n",
       "  </thead>\n",
       "  <tbody>\n",
       "    <tr>\n",
       "      <th>2021-01-01</th>\n",
       "      <td>1</td>\n",
       "      <td>iPhone 12</td>\n",
       "      <td>999</td>\n",
       "      <td>1</td>\n",
       "      <td>1</td>\n",
       "      <td>John Doe</td>\n",
       "      <td>25</td>\n",
       "      <td>john@doe.com</td>\n",
       "    </tr>\n",
       "    <tr>\n",
       "      <th>2021-02-01</th>\n",
       "      <td>1</td>\n",
       "      <td>iPhone 12</td>\n",
       "      <td>999</td>\n",
       "      <td>2</td>\n",
       "      <td>2</td>\n",
       "      <td>Jane Doe</td>\n",
       "      <td>30</td>\n",
       "      <td>jane@doe.com</td>\n",
       "    </tr>\n",
       "    <tr>\n",
       "      <th>2020-01-01</th>\n",
       "      <td>1</td>\n",
       "      <td>iPhone 12</td>\n",
       "      <td>999</td>\n",
       "      <td>7</td>\n",
       "      <td>4</td>\n",
       "      <td>Jake Smith</td>\n",
       "      <td>20</td>\n",
       "      <td>jake@smith.com</td>\n",
       "    </tr>\n",
       "    <tr>\n",
       "      <th>2021-02-15</th>\n",
       "      <td>2</td>\n",
       "      <td>Samsung S21</td>\n",
       "      <td>899</td>\n",
       "      <td>3</td>\n",
       "      <td>3</td>\n",
       "      <td>Jim Brown</td>\n",
       "      <td>35</td>\n",
       "      <td>jim@brown.com</td>\n",
       "    </tr>\n",
       "    <tr>\n",
       "      <th>2020-03-01</th>\n",
       "      <td>2</td>\n",
       "      <td>Samsung S21</td>\n",
       "      <td>899</td>\n",
       "      <td>4</td>\n",
       "      <td>2</td>\n",
       "      <td>Jane Doe</td>\n",
       "      <td>30</td>\n",
       "      <td>jane@doe.com</td>\n",
       "    </tr>\n",
       "    <tr>\n",
       "      <th>2020-04-01</th>\n",
       "      <td>3</td>\n",
       "      <td>Pixel 5</td>\n",
       "      <td>699</td>\n",
       "      <td>5</td>\n",
       "      <td>3</td>\n",
       "      <td>Jim Brown</td>\n",
       "      <td>35</td>\n",
       "      <td>jim@brown.com</td>\n",
       "    </tr>\n",
       "    <tr>\n",
       "      <th>2020-02-15</th>\n",
       "      <td>3</td>\n",
       "      <td>Pixel 5</td>\n",
       "      <td>699</td>\n",
       "      <td>6</td>\n",
       "      <td>4</td>\n",
       "      <td>Jake Smith</td>\n",
       "      <td>20</td>\n",
       "      <td>jake@smith.com</td>\n",
       "    </tr>\n",
       "  </tbody>\n",
       "</table>\n",
       "</div>"
      ],
      "text/plain": [
       "            Product_ID Product_Name  Product_Price  Sale_ID  Customer_ID  \\\n",
       "Sale_Date                                                                  \n",
       "2021-01-01           1    iPhone 12            999        1            1   \n",
       "2021-02-01           1    iPhone 12            999        2            2   \n",
       "2020-01-01           1    iPhone 12            999        7            4   \n",
       "2021-02-15           2  Samsung S21            899        3            3   \n",
       "2020-03-01           2  Samsung S21            899        4            2   \n",
       "2020-04-01           3      Pixel 5            699        5            3   \n",
       "2020-02-15           3      Pixel 5            699        6            4   \n",
       "\n",
       "           Customer_Name  Customer_Age  Customer_Email  \n",
       "Sale_Date                                               \n",
       "2021-01-01      John Doe            25    john@doe.com  \n",
       "2021-02-01      Jane Doe            30    jane@doe.com  \n",
       "2020-01-01    Jake Smith            20  jake@smith.com  \n",
       "2021-02-15     Jim Brown            35   jim@brown.com  \n",
       "2020-03-01      Jane Doe            30    jane@doe.com  \n",
       "2020-04-01     Jim Brown            35   jim@brown.com  \n",
       "2020-02-15    Jake Smith            20  jake@smith.com  "
      ]
     },
     "execution_count": 102,
     "metadata": {},
     "output_type": "execute_result"
    }
   ],
   "source": [
    "super_duper_merge"
   ]
  },
  {
   "cell_type": "code",
   "execution_count": 183,
   "id": "633665d7-5fe7-428e-a4a8-7a9087f0b29f",
   "metadata": {},
   "outputs": [
    {
     "data": {
      "text/plain": [
       "Sale_Date\n",
       "2020-12-31    4\n",
       "2021-12-31    3\n",
       "Freq: YE-DEC, Name: Product_Name, dtype: int64"
      ]
     },
     "execution_count": 183,
     "metadata": {},
     "output_type": "execute_result"
    }
   ],
   "source": [
    "total_sales"
   ]
  },
  {
   "cell_type": "code",
   "execution_count": 119,
   "id": "20cea862-f2bf-4373-8dea-41afbc84bafe",
   "metadata": {},
   "outputs": [],
   "source": [
    "hell = super_duper_merge.resample(rule='YE')[\"Sale_ID\"]"
   ]
  },
  {
   "cell_type": "code",
   "execution_count": 133,
   "id": "4f7cb3e1-922a-4fec-8e16-e5003d84a8de",
   "metadata": {},
   "outputs": [
    {
     "data": {
      "text/plain": [
       "<pandas.core.groupby.generic.SeriesGroupBy object at 0x17a20b230>"
      ]
     },
     "execution_count": 133,
     "metadata": {},
     "output_type": "execute_result"
    }
   ],
   "source": [
    "hell"
   ]
  },
  {
   "cell_type": "code",
   "execution_count": 131,
   "id": "85b86459-97cb-4a40-8809-95812c691b7e",
   "metadata": {},
   "outputs": [
    {
     "data": {
      "text/html": [
       "<div>\n",
       "<style scoped>\n",
       "    .dataframe tbody tr th:only-of-type {\n",
       "        vertical-align: middle;\n",
       "    }\n",
       "\n",
       "    .dataframe tbody tr th {\n",
       "        vertical-align: top;\n",
       "    }\n",
       "\n",
       "    .dataframe thead th {\n",
       "        text-align: right;\n",
       "    }\n",
       "</style>\n",
       "<table border=\"1\" class=\"dataframe\">\n",
       "  <thead>\n",
       "    <tr style=\"text-align: right;\">\n",
       "      <th></th>\n",
       "      <th></th>\n",
       "      <th>Product_ID</th>\n",
       "      <th>Product_Price</th>\n",
       "      <th>Sale_ID</th>\n",
       "      <th>Customer_ID</th>\n",
       "      <th>Customer_Age</th>\n",
       "    </tr>\n",
       "    <tr>\n",
       "      <th>Product_Name</th>\n",
       "      <th>Sale_Date</th>\n",
       "      <th></th>\n",
       "      <th></th>\n",
       "      <th></th>\n",
       "      <th></th>\n",
       "      <th></th>\n",
       "    </tr>\n",
       "  </thead>\n",
       "  <tbody>\n",
       "  </tbody>\n",
       "</table>\n",
       "</div>"
      ],
      "text/plain": [
       "Empty DataFrame\n",
       "Columns: [Product_ID, Product_Price, Sale_ID, Customer_ID, Customer_Age]\n",
       "Index: []"
      ]
     },
     "execution_count": 131,
     "metadata": {},
     "output_type": "execute_result"
    }
   ],
   "source": [
    "super_merge[super_merge[\"Sale_Date\"].isin([2020,2021])].groupby([\"Product_Name\",\"Sale_Date\"]).sum(numeric_only=True)"
   ]
  },
  {
   "cell_type": "code",
   "execution_count": 157,
   "id": "72694fa9-be8d-4e3f-b7db-269eff72c734",
   "metadata": {},
   "outputs": [
    {
     "data": {
      "text/plain": [
       "0   2021-01-01\n",
       "1   2021-02-01\n",
       "2   2020-01-01\n",
       "3   2021-02-15\n",
       "4   2020-03-01\n",
       "5   2020-04-01\n",
       "6   2020-02-15\n",
       "Name: Sale_Date, dtype: datetime64[ns]"
      ]
     },
     "execution_count": 157,
     "metadata": {},
     "output_type": "execute_result"
    }
   ],
   "source": [
    "super_merge['Sale_Date']"
   ]
  },
  {
   "cell_type": "code",
   "execution_count": 155,
   "id": "d1745f28-6021-4a4a-9f6f-6aa9753d508d",
   "metadata": {},
   "outputs": [
    {
     "ename": "AttributeError",
     "evalue": "'str' object has no attribute 'strftime'",
     "output_type": "error",
     "traceback": [
      "\u001b[0;31m---------------------------------------------------------------------------\u001b[0m",
      "\u001b[0;31mAttributeError\u001b[0m                            Traceback (most recent call last)",
      "Cell \u001b[0;32mIn[155], line 1\u001b[0m\n\u001b[0;32m----> 1\u001b[0m year_cel \u001b[38;5;241m=\u001b[39m super_merge\u001b[38;5;241m.\u001b[39mgroupby([\u001b[38;5;124m\"\u001b[39m\u001b[38;5;124mProduct_Name\u001b[39m\u001b[38;5;124m\"\u001b[39m,[\u001b[38;5;124m\"\u001b[39m\u001b[38;5;124mSale_Date\u001b[39m\u001b[38;5;124m\"\u001b[39m\u001b[38;5;241m.\u001b[39mstrftime(\u001b[38;5;124m\"\u001b[39m\u001b[38;5;124m%\u001b[39m\u001b[38;5;124mY\u001b[39m\u001b[38;5;124m\"\u001b[39m)]])\u001b[38;5;241m.\u001b[39mcount()\n\u001b[1;32m      2\u001b[0m year_cel\n",
      "\u001b[0;31mAttributeError\u001b[0m: 'str' object has no attribute 'strftime'"
     ]
    }
   ],
   "source": [
    "year_cel = super_merge.groupby([\"Product_Name\",\"Sale_Date\".strftime(\"%Y\")]).count()\n",
    "year_cel"
   ]
  },
  {
   "cell_type": "code",
   "execution_count": 199,
   "id": "89886ac0-0e65-4a48-a145-3d53300c5c72",
   "metadata": {},
   "outputs": [],
   "source": [
    "new_format = pd.to_datetime(super_merge[\"Sale_Date\"])\n",
    "new_new_format = new_format.dt.strftime(\"%Y\")\n"
   ]
  },
  {
   "cell_type": "code",
   "execution_count": 201,
   "id": "cf398d39-5c2b-4b37-9a13-85ba3f5a8f1d",
   "metadata": {},
   "outputs": [
    {
     "data": {
      "text/plain": [
       "0    2021\n",
       "1    2021\n",
       "2    2020\n",
       "3    2021\n",
       "4    2020\n",
       "5    2020\n",
       "6    2020\n",
       "Name: Sale_Date, dtype: object"
      ]
     },
     "execution_count": 201,
     "metadata": {},
     "output_type": "execute_result"
    }
   ],
   "source": [
    "new_new_format"
   ]
  },
  {
   "cell_type": "code",
   "execution_count": 211,
   "id": "d6045ecc-e2ee-4fb1-a0c3-fd2556176fbd",
   "metadata": {},
   "outputs": [],
   "source": [
    "super_merge['Sale_Date'] = new_new_format"
   ]
  },
  {
   "cell_type": "code",
   "execution_count": 231,
   "id": "69d0652f-e2f2-4a71-a2bb-78b095f79bba",
   "metadata": {},
   "outputs": [
    {
     "data": {
      "text/plain": [
       "Sale_Date  Product_Name\n",
       "2020       Pixel 5         2\n",
       "           Samsung S21     1\n",
       "           iPhone 12       1\n",
       "2021       Samsung S21     1\n",
       "           iPhone 12       2\n",
       "Name: Product_ID, dtype: int64"
      ]
     },
     "execution_count": 231,
     "metadata": {},
     "output_type": "execute_result"
    }
   ],
   "source": [
    "super_merge.groupby(['Sale_Date', 'Product_Name']).count()['Product_ID']"
   ]
  },
  {
   "cell_type": "markdown",
   "id": "8c589e0b-87c4-4acc-9ea3-195afa36d34d",
   "metadata": {},
   "source": [
    "● Show in a new Dataframe how many licenses sold for each company from each product"
   ]
  },
  {
   "cell_type": "code",
   "execution_count": 234,
   "id": "719d56c6-2ee6-47e0-9026-a111884900e4",
   "metadata": {},
   "outputs": [],
   "source": [
    "sales = pd.read_csv('/Users/mcrandom/Downloads/Sales_Funnel_CRM.csv')"
   ]
  },
  {
   "cell_type": "code",
   "execution_count": null,
   "id": "9cde2395-f852-42ff-9bdd-b2a534e49fd1",
   "metadata": {},
   "outputs": [],
   "source": [
    "sales.pivot(index='Company', columns='Product', values='Licenses')"
   ]
  },
  {
   "cell_type": "markdown",
   "id": "d7506ee2-c7b5-4867-bab7-c759bf596f13",
   "metadata": {},
   "source": [
    "● Show in a new Dataframe for each company what is the total amount of sale price and licences sold"
   ]
  },
  {
   "cell_type": "code",
   "execution_count": 255,
   "id": "0a9d86e2-777d-456a-9468-c29f1ddd9321",
   "metadata": {},
   "outputs": [
    {
     "data": {
      "text/html": [
       "<div>\n",
       "<style scoped>\n",
       "    .dataframe tbody tr th:only-of-type {\n",
       "        vertical-align: middle;\n",
       "    }\n",
       "\n",
       "    .dataframe tbody tr th {\n",
       "        vertical-align: top;\n",
       "    }\n",
       "\n",
       "    .dataframe thead th {\n",
       "        text-align: right;\n",
       "    }\n",
       "</style>\n",
       "<table border=\"1\" class=\"dataframe\">\n",
       "  <thead>\n",
       "    <tr style=\"text-align: right;\">\n",
       "      <th></th>\n",
       "      <th>Licenses</th>\n",
       "      <th>Sale Price</th>\n",
       "    </tr>\n",
       "    <tr>\n",
       "      <th>Company</th>\n",
       "      <th></th>\n",
       "      <th></th>\n",
       "    </tr>\n",
       "  </thead>\n",
       "  <tbody>\n",
       "    <tr>\n",
       "      <th>Google</th>\n",
       "      <td>600</td>\n",
       "      <td>3150000</td>\n",
       "    </tr>\n",
       "    <tr>\n",
       "      <th>ATT</th>\n",
       "      <td>300</td>\n",
       "      <td>1050000</td>\n",
       "    </tr>\n",
       "    <tr>\n",
       "      <th>Apple</th>\n",
       "      <td>300</td>\n",
       "      <td>4550000</td>\n",
       "    </tr>\n",
       "    <tr>\n",
       "      <th>BOBO</th>\n",
       "      <td>150</td>\n",
       "      <td>2450000</td>\n",
       "    </tr>\n",
       "    <tr>\n",
       "      <th>CVS Health</th>\n",
       "      <td>450</td>\n",
       "      <td>490000</td>\n",
       "    </tr>\n",
       "    <tr>\n",
       "      <th>Cisco</th>\n",
       "      <td>600</td>\n",
       "      <td>4900000</td>\n",
       "    </tr>\n",
       "    <tr>\n",
       "      <th>Exxon Mobile</th>\n",
       "      <td>150</td>\n",
       "      <td>2100000</td>\n",
       "    </tr>\n",
       "    <tr>\n",
       "      <th>IKEA</th>\n",
       "      <td>300</td>\n",
       "      <td>4550000</td>\n",
       "    </tr>\n",
       "    <tr>\n",
       "      <th>Microsoft</th>\n",
       "      <td>300</td>\n",
       "      <td>350000</td>\n",
       "    </tr>\n",
       "    <tr>\n",
       "      <th>Salesforce</th>\n",
       "      <td>750</td>\n",
       "      <td>7000000</td>\n",
       "    </tr>\n",
       "    <tr>\n",
       "      <th>Tesla Inc.</th>\n",
       "      <td>450</td>\n",
       "      <td>3500000</td>\n",
       "    </tr>\n",
       "    <tr>\n",
       "      <th>Walmart</th>\n",
       "      <td>150</td>\n",
       "      <td>2450000</td>\n",
       "    </tr>\n",
       "  </tbody>\n",
       "</table>\n",
       "</div>"
      ],
      "text/plain": [
       "              Licenses  Sale Price\n",
       "Company                           \n",
       " Google            600     3150000\n",
       "ATT                300     1050000\n",
       "Apple              300     4550000\n",
       "BOBO               150     2450000\n",
       "CVS Health         450      490000\n",
       "Cisco              600     4900000\n",
       "Exxon Mobile       150     2100000\n",
       "IKEA               300     4550000\n",
       "Microsoft          300      350000\n",
       "Salesforce         750     7000000\n",
       "Tesla Inc.         450     3500000\n",
       "Walmart            150     2450000"
      ]
     },
     "execution_count": 255,
     "metadata": {},
     "output_type": "execute_result"
    }
   ],
   "source": [
    "sales.groupby('Company').sum()[['Licenses', 'Sale Price']]"
   ]
  },
  {
   "cell_type": "code",
   "execution_count": null,
   "id": "42114216-3ac3-4109-b5a2-8e611da18354",
   "metadata": {},
   "outputs": [],
   "source": []
  }
 ],
 "metadata": {
  "kernelspec": {
   "display_name": "Python [conda env:base] *",
   "language": "python",
   "name": "conda-base-py"
  },
  "language_info": {
   "codemirror_mode": {
    "name": "ipython",
    "version": 3
   },
   "file_extension": ".py",
   "mimetype": "text/x-python",
   "name": "python",
   "nbconvert_exporter": "python",
   "pygments_lexer": "ipython3",
   "version": "3.12.7"
  }
 },
 "nbformat": 4,
 "nbformat_minor": 5
}
