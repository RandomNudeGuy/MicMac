{
 "cells": [
  {
   "cell_type": "code",
   "execution_count": 6,
   "id": "061fc659-7d07-40ca-a7dd-a8e44a5792cd",
   "metadata": {},
   "outputs": [],
   "source": [
    "import pandas as pd\n",
    "import numpy as np"
   ]
  },
  {
   "cell_type": "code",
   "execution_count": 8,
   "id": "1058f94d-5ad2-442d-87b5-6de2e0563f30",
   "metadata": {},
   "outputs": [],
   "source": [
    "products_df = pd.DataFrame({\n",
    "'Product_ID': [1, 2, 3],\n",
    "'Product_Name': ['iPhone 12', 'Samsung S21', 'Pixel 5'],\n",
    "'Product_Price': [999, 899, 699],\n",
    "})\n",
    "sales_df = pd.DataFrame({\n",
    "'Sale_ID': [1, 2, 3, 4, 5, 6, 7],\n",
    "'Sale_Date': pd.to_datetime(['2021-01-01', '2021-02-01', '2021-02-15', '2020-03-01', '2020-04-01',\n",
    "'2020-02-15', '2020-01-01']),\n",
    "'Customer_ID': [1, 2, 3, 2, 3, 4, 4],\n",
    "'Product_ID': [1, 1, 2, 2, 3, 3, 1],\n",
    "})\n",
    "customers_df = pd.DataFrame({\n",
    "'Customer_ID': [1, 2, 3, 4],\n",
    "'Customer_Name': ['John Doe', 'Jane Doe', 'Jim Brown', 'Jake Smith'],\n",
    "'Customer_Age': [25, 30, 35, 20],\n",
    "'Customer_Email': ['john@doe.com', 'jane@doe.com', 'jim@brown.com', 'jake@smith.com'],\n",
    "})"
   ]
  },
  {
   "cell_type": "markdown",
   "id": "7133eaaa-8fa2-4c6a-b870-332619c2f7e3",
   "metadata": {},
   "source": [
    "**Having the products_df and sales_df, merge both dataframes using 'Product_ID' as the key. Once you have it, display only the Sale_ID, Product_Name and Product_Price columns.**"
   ]
  },
  {
   "cell_type": "code",
   "execution_count": 11,
   "id": "5d264053-1c96-46fa-b3ad-be541e110e53",
   "metadata": {},
   "outputs": [],
   "source": [
    "merged_df = pd.merge(products_df, sales_df, on=\"Product_ID\")"
   ]
  },
  {
   "cell_type": "code",
   "execution_count": 13,
   "id": "da4d8fd9-a4b7-41d1-a7fe-513a43d9072f",
   "metadata": {},
   "outputs": [],
   "source": [
    "small_df = merged_df[[\"Sale_ID\", \"Product_Name\", \"Product_Price\",]]"
   ]
  },
  {
   "cell_type": "code",
   "execution_count": 15,
   "id": "0548ba5c-3f1e-421b-9289-d81d696d719d",
   "metadata": {
    "scrolled": true
   },
   "outputs": [
    {
     "data": {
      "text/html": [
       "<div>\n",
       "<style scoped>\n",
       "    .dataframe tbody tr th:only-of-type {\n",
       "        vertical-align: middle;\n",
       "    }\n",
       "\n",
       "    .dataframe tbody tr th {\n",
       "        vertical-align: top;\n",
       "    }\n",
       "\n",
       "    .dataframe thead th {\n",
       "        text-align: right;\n",
       "    }\n",
       "</style>\n",
       "<table border=\"1\" class=\"dataframe\">\n",
       "  <thead>\n",
       "    <tr style=\"text-align: right;\">\n",
       "      <th></th>\n",
       "      <th>Product_ID</th>\n",
       "      <th>Product_Name</th>\n",
       "      <th>Product_Price</th>\n",
       "      <th>Sale_ID</th>\n",
       "      <th>Sale_Date</th>\n",
       "      <th>Customer_ID</th>\n",
       "    </tr>\n",
       "  </thead>\n",
       "  <tbody>\n",
       "    <tr>\n",
       "      <th>0</th>\n",
       "      <td>1</td>\n",
       "      <td>iPhone 12</td>\n",
       "      <td>999</td>\n",
       "      <td>1</td>\n",
       "      <td>2021-01-01</td>\n",
       "      <td>1</td>\n",
       "    </tr>\n",
       "    <tr>\n",
       "      <th>1</th>\n",
       "      <td>1</td>\n",
       "      <td>iPhone 12</td>\n",
       "      <td>999</td>\n",
       "      <td>2</td>\n",
       "      <td>2021-02-01</td>\n",
       "      <td>2</td>\n",
       "    </tr>\n",
       "    <tr>\n",
       "      <th>2</th>\n",
       "      <td>1</td>\n",
       "      <td>iPhone 12</td>\n",
       "      <td>999</td>\n",
       "      <td>7</td>\n",
       "      <td>2020-01-01</td>\n",
       "      <td>4</td>\n",
       "    </tr>\n",
       "    <tr>\n",
       "      <th>3</th>\n",
       "      <td>2</td>\n",
       "      <td>Samsung S21</td>\n",
       "      <td>899</td>\n",
       "      <td>3</td>\n",
       "      <td>2021-02-15</td>\n",
       "      <td>3</td>\n",
       "    </tr>\n",
       "    <tr>\n",
       "      <th>4</th>\n",
       "      <td>2</td>\n",
       "      <td>Samsung S21</td>\n",
       "      <td>899</td>\n",
       "      <td>4</td>\n",
       "      <td>2020-03-01</td>\n",
       "      <td>2</td>\n",
       "    </tr>\n",
       "    <tr>\n",
       "      <th>5</th>\n",
       "      <td>3</td>\n",
       "      <td>Pixel 5</td>\n",
       "      <td>699</td>\n",
       "      <td>5</td>\n",
       "      <td>2020-04-01</td>\n",
       "      <td>3</td>\n",
       "    </tr>\n",
       "    <tr>\n",
       "      <th>6</th>\n",
       "      <td>3</td>\n",
       "      <td>Pixel 5</td>\n",
       "      <td>699</td>\n",
       "      <td>6</td>\n",
       "      <td>2020-02-15</td>\n",
       "      <td>4</td>\n",
       "    </tr>\n",
       "  </tbody>\n",
       "</table>\n",
       "</div>"
      ],
      "text/plain": [
       "   Product_ID Product_Name  Product_Price  Sale_ID  Sale_Date  Customer_ID\n",
       "0           1    iPhone 12            999        1 2021-01-01            1\n",
       "1           1    iPhone 12            999        2 2021-02-01            2\n",
       "2           1    iPhone 12            999        7 2020-01-01            4\n",
       "3           2  Samsung S21            899        3 2021-02-15            3\n",
       "4           2  Samsung S21            899        4 2020-03-01            2\n",
       "5           3      Pixel 5            699        5 2020-04-01            3\n",
       "6           3      Pixel 5            699        6 2020-02-15            4"
      ]
     },
     "execution_count": 15,
     "metadata": {},
     "output_type": "execute_result"
    }
   ],
   "source": [
    "merged_df"
   ]
  },
  {
   "cell_type": "code",
   "execution_count": 17,
   "id": "50392fb4-660d-425a-8ac8-bf8ad5f0abdf",
   "metadata": {},
   "outputs": [
    {
     "data": {
      "text/html": [
       "<div>\n",
       "<style scoped>\n",
       "    .dataframe tbody tr th:only-of-type {\n",
       "        vertical-align: middle;\n",
       "    }\n",
       "\n",
       "    .dataframe tbody tr th {\n",
       "        vertical-align: top;\n",
       "    }\n",
       "\n",
       "    .dataframe thead th {\n",
       "        text-align: right;\n",
       "    }\n",
       "</style>\n",
       "<table border=\"1\" class=\"dataframe\">\n",
       "  <thead>\n",
       "    <tr style=\"text-align: right;\">\n",
       "      <th></th>\n",
       "      <th>Sale_ID</th>\n",
       "      <th>Product_Name</th>\n",
       "      <th>Product_Price</th>\n",
       "    </tr>\n",
       "  </thead>\n",
       "  <tbody>\n",
       "    <tr>\n",
       "      <th>0</th>\n",
       "      <td>1</td>\n",
       "      <td>iPhone 12</td>\n",
       "      <td>999</td>\n",
       "    </tr>\n",
       "    <tr>\n",
       "      <th>1</th>\n",
       "      <td>2</td>\n",
       "      <td>iPhone 12</td>\n",
       "      <td>999</td>\n",
       "    </tr>\n",
       "    <tr>\n",
       "      <th>2</th>\n",
       "      <td>7</td>\n",
       "      <td>iPhone 12</td>\n",
       "      <td>999</td>\n",
       "    </tr>\n",
       "    <tr>\n",
       "      <th>3</th>\n",
       "      <td>3</td>\n",
       "      <td>Samsung S21</td>\n",
       "      <td>899</td>\n",
       "    </tr>\n",
       "    <tr>\n",
       "      <th>4</th>\n",
       "      <td>4</td>\n",
       "      <td>Samsung S21</td>\n",
       "      <td>899</td>\n",
       "    </tr>\n",
       "    <tr>\n",
       "      <th>5</th>\n",
       "      <td>5</td>\n",
       "      <td>Pixel 5</td>\n",
       "      <td>699</td>\n",
       "    </tr>\n",
       "    <tr>\n",
       "      <th>6</th>\n",
       "      <td>6</td>\n",
       "      <td>Pixel 5</td>\n",
       "      <td>699</td>\n",
       "    </tr>\n",
       "  </tbody>\n",
       "</table>\n",
       "</div>"
      ],
      "text/plain": [
       "   Sale_ID Product_Name  Product_Price\n",
       "0        1    iPhone 12            999\n",
       "1        2    iPhone 12            999\n",
       "2        7    iPhone 12            999\n",
       "3        3  Samsung S21            899\n",
       "4        4  Samsung S21            899\n",
       "5        5      Pixel 5            699\n",
       "6        6      Pixel 5            699"
      ]
     },
     "execution_count": 17,
     "metadata": {},
     "output_type": "execute_result"
    }
   ],
   "source": [
    "small_df"
   ]
  },
  {
   "cell_type": "markdown",
   "id": "d379241b-cafb-4c43-af86-e811045680f1",
   "metadata": {},
   "source": [
    "**Concatenate these dataframes with the original products_df and show the final dataframe. Use a copy() and don’t change the original products_df.**"
   ]
  },
  {
   "cell_type": "code",
   "execution_count": 20,
   "id": "a0f337d5-1cea-4873-a732-7b71a61c13aa",
   "metadata": {},
   "outputs": [],
   "source": [
    "apple_products_df = pd.DataFrame({\n",
    "'Product_ID': [4, 5],\n",
    "'Product_Name': ['iPhone 13', 'Apple Watch Series 6'],\n",
    "'Product_Price': [999, 399],\n",
    "})\n",
    "samsung_products_df = pd.DataFrame({\n",
    "'Product_ID': [6, 7],\n",
    "'Product_Name': ['Samsung S22', 'Galaxy Watch 4'],\n",
    "'Product_Price': [999, 250],\n",
    "})"
   ]
  },
  {
   "cell_type": "code",
   "execution_count": 22,
   "id": "0c8dd406-95d4-4876-85c4-6d5f2255117b",
   "metadata": {},
   "outputs": [],
   "source": [
    "products_df_copy = products_df.copy()"
   ]
  },
  {
   "cell_type": "code",
   "execution_count": 24,
   "id": "bbc07083-4d0b-447e-9e54-13deb6ab6cf6",
   "metadata": {},
   "outputs": [
    {
     "data": {
      "text/html": [
       "<div>\n",
       "<style scoped>\n",
       "    .dataframe tbody tr th:only-of-type {\n",
       "        vertical-align: middle;\n",
       "    }\n",
       "\n",
       "    .dataframe tbody tr th {\n",
       "        vertical-align: top;\n",
       "    }\n",
       "\n",
       "    .dataframe thead th {\n",
       "        text-align: right;\n",
       "    }\n",
       "</style>\n",
       "<table border=\"1\" class=\"dataframe\">\n",
       "  <thead>\n",
       "    <tr style=\"text-align: right;\">\n",
       "      <th></th>\n",
       "      <th>Product_ID</th>\n",
       "      <th>Product_Name</th>\n",
       "      <th>Product_Price</th>\n",
       "    </tr>\n",
       "  </thead>\n",
       "  <tbody>\n",
       "    <tr>\n",
       "      <th>0</th>\n",
       "      <td>1</td>\n",
       "      <td>iPhone 12</td>\n",
       "      <td>999</td>\n",
       "    </tr>\n",
       "    <tr>\n",
       "      <th>1</th>\n",
       "      <td>2</td>\n",
       "      <td>Samsung S21</td>\n",
       "      <td>899</td>\n",
       "    </tr>\n",
       "    <tr>\n",
       "      <th>2</th>\n",
       "      <td>3</td>\n",
       "      <td>Pixel 5</td>\n",
       "      <td>699</td>\n",
       "    </tr>\n",
       "  </tbody>\n",
       "</table>\n",
       "</div>"
      ],
      "text/plain": [
       "   Product_ID Product_Name  Product_Price\n",
       "0           1    iPhone 12            999\n",
       "1           2  Samsung S21            899\n",
       "2           3      Pixel 5            699"
      ]
     },
     "execution_count": 24,
     "metadata": {},
     "output_type": "execute_result"
    }
   ],
   "source": [
    "products_df_copy"
   ]
  },
  {
   "cell_type": "code",
   "execution_count": 26,
   "id": "68806afe-8909-4d4b-8441-89826ed23cd1",
   "metadata": {},
   "outputs": [],
   "source": [
    "concat_df = pd.concat([products_df, apple_products_df, samsung_products_df], axis=0)"
   ]
  },
  {
   "cell_type": "code",
   "execution_count": 28,
   "id": "d4bb39a7-c9a5-4d84-82f5-5ca2655bfcbd",
   "metadata": {},
   "outputs": [
    {
     "data": {
      "text/html": [
       "<div>\n",
       "<style scoped>\n",
       "    .dataframe tbody tr th:only-of-type {\n",
       "        vertical-align: middle;\n",
       "    }\n",
       "\n",
       "    .dataframe tbody tr th {\n",
       "        vertical-align: top;\n",
       "    }\n",
       "\n",
       "    .dataframe thead th {\n",
       "        text-align: right;\n",
       "    }\n",
       "</style>\n",
       "<table border=\"1\" class=\"dataframe\">\n",
       "  <thead>\n",
       "    <tr style=\"text-align: right;\">\n",
       "      <th></th>\n",
       "      <th>Product_ID</th>\n",
       "      <th>Product_Name</th>\n",
       "      <th>Product_Price</th>\n",
       "    </tr>\n",
       "  </thead>\n",
       "  <tbody>\n",
       "    <tr>\n",
       "      <th>0</th>\n",
       "      <td>1</td>\n",
       "      <td>iPhone 12</td>\n",
       "      <td>999</td>\n",
       "    </tr>\n",
       "    <tr>\n",
       "      <th>1</th>\n",
       "      <td>2</td>\n",
       "      <td>Samsung S21</td>\n",
       "      <td>899</td>\n",
       "    </tr>\n",
       "    <tr>\n",
       "      <th>2</th>\n",
       "      <td>3</td>\n",
       "      <td>Pixel 5</td>\n",
       "      <td>699</td>\n",
       "    </tr>\n",
       "    <tr>\n",
       "      <th>0</th>\n",
       "      <td>4</td>\n",
       "      <td>iPhone 13</td>\n",
       "      <td>999</td>\n",
       "    </tr>\n",
       "    <tr>\n",
       "      <th>1</th>\n",
       "      <td>5</td>\n",
       "      <td>Apple Watch Series 6</td>\n",
       "      <td>399</td>\n",
       "    </tr>\n",
       "    <tr>\n",
       "      <th>0</th>\n",
       "      <td>6</td>\n",
       "      <td>Samsung S22</td>\n",
       "      <td>999</td>\n",
       "    </tr>\n",
       "    <tr>\n",
       "      <th>1</th>\n",
       "      <td>7</td>\n",
       "      <td>Galaxy Watch 4</td>\n",
       "      <td>250</td>\n",
       "    </tr>\n",
       "  </tbody>\n",
       "</table>\n",
       "</div>"
      ],
      "text/plain": [
       "   Product_ID          Product_Name  Product_Price\n",
       "0           1             iPhone 12            999\n",
       "1           2           Samsung S21            899\n",
       "2           3               Pixel 5            699\n",
       "0           4             iPhone 13            999\n",
       "1           5  Apple Watch Series 6            399\n",
       "0           6           Samsung S22            999\n",
       "1           7        Galaxy Watch 4            250"
      ]
     },
     "execution_count": 28,
     "metadata": {},
     "output_type": "execute_result"
    }
   ],
   "source": [
    "concat_df"
   ]
  },
  {
   "cell_type": "code",
   "execution_count": 30,
   "id": "f5c54754-8f77-4c9d-b989-6b4f113fc1aa",
   "metadata": {},
   "outputs": [
    {
     "data": {
      "text/html": [
       "<div>\n",
       "<style scoped>\n",
       "    .dataframe tbody tr th:only-of-type {\n",
       "        vertical-align: middle;\n",
       "    }\n",
       "\n",
       "    .dataframe tbody tr th {\n",
       "        vertical-align: top;\n",
       "    }\n",
       "\n",
       "    .dataframe thead th {\n",
       "        text-align: right;\n",
       "    }\n",
       "</style>\n",
       "<table border=\"1\" class=\"dataframe\">\n",
       "  <thead>\n",
       "    <tr style=\"text-align: right;\">\n",
       "      <th></th>\n",
       "      <th>Product_ID</th>\n",
       "      <th>Product_Name</th>\n",
       "      <th>Product_Price</th>\n",
       "    </tr>\n",
       "  </thead>\n",
       "  <tbody>\n",
       "    <tr>\n",
       "      <th>0</th>\n",
       "      <td>1</td>\n",
       "      <td>iPhone 12</td>\n",
       "      <td>999</td>\n",
       "    </tr>\n",
       "    <tr>\n",
       "      <th>1</th>\n",
       "      <td>2</td>\n",
       "      <td>Samsung S21</td>\n",
       "      <td>899</td>\n",
       "    </tr>\n",
       "    <tr>\n",
       "      <th>2</th>\n",
       "      <td>3</td>\n",
       "      <td>Pixel 5</td>\n",
       "      <td>699</td>\n",
       "    </tr>\n",
       "  </tbody>\n",
       "</table>\n",
       "</div>"
      ],
      "text/plain": [
       "   Product_ID Product_Name  Product_Price\n",
       "0           1    iPhone 12            999\n",
       "1           2  Samsung S21            899\n",
       "2           3      Pixel 5            699"
      ]
     },
     "execution_count": 30,
     "metadata": {},
     "output_type": "execute_result"
    }
   ],
   "source": [
    "products_df"
   ]
  },
  {
   "cell_type": "markdown",
   "id": "38f0660c-e436-4e56-9d15-3070632bb7dc",
   "metadata": {},
   "source": [
    "**With the resulting df from Exercise 1, group it by Product_Name and calculate the total Product_Price.**\n",
    "לא הבנתי בידיוק מה יש לחשב על מחיר המוצר"
   ]
  },
  {
   "cell_type": "code",
   "execution_count": 33,
   "id": "d9697014-790d-4a26-803b-935870934062",
   "metadata": {},
   "outputs": [],
   "source": [
    "groupy = small_df.groupby(\"Product_Name\")[\"Product_Price\"].sum()"
   ]
  },
  {
   "cell_type": "code",
   "execution_count": 35,
   "id": "bd639588-8beb-4e0b-864d-515cd7605ef5",
   "metadata": {},
   "outputs": [
    {
     "data": {
      "text/plain": [
       "Product_Name\n",
       "Pixel 5        1398\n",
       "Samsung S21    1798\n",
       "iPhone 12      2997\n",
       "Name: Product_Price, dtype: int64"
      ]
     },
     "execution_count": 35,
     "metadata": {},
     "output_type": "execute_result"
    }
   ],
   "source": [
    "groupy"
   ]
  },
  {
   "cell_type": "markdown",
   "id": "5fb5fb54-afba-4faa-a1cd-63423a82042f",
   "metadata": {},
   "source": [
    "**In the customers_df dataframe, set 'Customer_ID' and 'Customer_Email' as indexes (multi indexing). After that, display all the customers whose ID is less than 3.**"
   ]
  },
  {
   "cell_type": "code",
   "execution_count": 38,
   "id": "17fccb37-3e25-4bae-a1a0-eebfc987a265",
   "metadata": {},
   "outputs": [
    {
     "data": {
      "text/html": [
       "<div>\n",
       "<style scoped>\n",
       "    .dataframe tbody tr th:only-of-type {\n",
       "        vertical-align: middle;\n",
       "    }\n",
       "\n",
       "    .dataframe tbody tr th {\n",
       "        vertical-align: top;\n",
       "    }\n",
       "\n",
       "    .dataframe thead th {\n",
       "        text-align: right;\n",
       "    }\n",
       "</style>\n",
       "<table border=\"1\" class=\"dataframe\">\n",
       "  <thead>\n",
       "    <tr style=\"text-align: right;\">\n",
       "      <th></th>\n",
       "      <th>Customer_ID</th>\n",
       "      <th>Customer_Name</th>\n",
       "      <th>Customer_Age</th>\n",
       "      <th>Customer_Email</th>\n",
       "    </tr>\n",
       "  </thead>\n",
       "  <tbody>\n",
       "    <tr>\n",
       "      <th>0</th>\n",
       "      <td>1</td>\n",
       "      <td>John Doe</td>\n",
       "      <td>25</td>\n",
       "      <td>john@doe.com</td>\n",
       "    </tr>\n",
       "    <tr>\n",
       "      <th>1</th>\n",
       "      <td>2</td>\n",
       "      <td>Jane Doe</td>\n",
       "      <td>30</td>\n",
       "      <td>jane@doe.com</td>\n",
       "    </tr>\n",
       "    <tr>\n",
       "      <th>2</th>\n",
       "      <td>3</td>\n",
       "      <td>Jim Brown</td>\n",
       "      <td>35</td>\n",
       "      <td>jim@brown.com</td>\n",
       "    </tr>\n",
       "    <tr>\n",
       "      <th>3</th>\n",
       "      <td>4</td>\n",
       "      <td>Jake Smith</td>\n",
       "      <td>20</td>\n",
       "      <td>jake@smith.com</td>\n",
       "    </tr>\n",
       "  </tbody>\n",
       "</table>\n",
       "</div>"
      ],
      "text/plain": [
       "   Customer_ID Customer_Name  Customer_Age  Customer_Email\n",
       "0            1      John Doe            25    john@doe.com\n",
       "1            2      Jane Doe            30    jane@doe.com\n",
       "2            3     Jim Brown            35   jim@brown.com\n",
       "3            4    Jake Smith            20  jake@smith.com"
      ]
     },
     "execution_count": 38,
     "metadata": {},
     "output_type": "execute_result"
    }
   ],
   "source": [
    "customers_df"
   ]
  },
  {
   "cell_type": "code",
   "execution_count": 40,
   "id": "eca4bb5b-1638-4901-a7a5-02309d6d67d0",
   "metadata": {},
   "outputs": [],
   "source": [
    "customers_df.set_index([\"Customer_ID\", \"Customer_Email\"], inplace=True)"
   ]
  },
  {
   "cell_type": "code",
   "execution_count": 42,
   "id": "bfb0e9f4-3a7e-4909-a791-6798ca2dfb37",
   "metadata": {},
   "outputs": [
    {
     "data": {
      "text/html": [
       "<div>\n",
       "<style scoped>\n",
       "    .dataframe tbody tr th:only-of-type {\n",
       "        vertical-align: middle;\n",
       "    }\n",
       "\n",
       "    .dataframe tbody tr th {\n",
       "        vertical-align: top;\n",
       "    }\n",
       "\n",
       "    .dataframe thead th {\n",
       "        text-align: right;\n",
       "    }\n",
       "</style>\n",
       "<table border=\"1\" class=\"dataframe\">\n",
       "  <thead>\n",
       "    <tr style=\"text-align: right;\">\n",
       "      <th></th>\n",
       "      <th></th>\n",
       "      <th>Customer_Name</th>\n",
       "      <th>Customer_Age</th>\n",
       "    </tr>\n",
       "    <tr>\n",
       "      <th>Customer_ID</th>\n",
       "      <th>Customer_Email</th>\n",
       "      <th></th>\n",
       "      <th></th>\n",
       "    </tr>\n",
       "  </thead>\n",
       "  <tbody>\n",
       "    <tr>\n",
       "      <th>1</th>\n",
       "      <th>john@doe.com</th>\n",
       "      <td>John Doe</td>\n",
       "      <td>25</td>\n",
       "    </tr>\n",
       "    <tr>\n",
       "      <th>2</th>\n",
       "      <th>jane@doe.com</th>\n",
       "      <td>Jane Doe</td>\n",
       "      <td>30</td>\n",
       "    </tr>\n",
       "    <tr>\n",
       "      <th>3</th>\n",
       "      <th>jim@brown.com</th>\n",
       "      <td>Jim Brown</td>\n",
       "      <td>35</td>\n",
       "    </tr>\n",
       "    <tr>\n",
       "      <th>4</th>\n",
       "      <th>jake@smith.com</th>\n",
       "      <td>Jake Smith</td>\n",
       "      <td>20</td>\n",
       "    </tr>\n",
       "  </tbody>\n",
       "</table>\n",
       "</div>"
      ],
      "text/plain": [
       "                           Customer_Name  Customer_Age\n",
       "Customer_ID Customer_Email                            \n",
       "1           john@doe.com        John Doe            25\n",
       "2           jane@doe.com        Jane Doe            30\n",
       "3           jim@brown.com      Jim Brown            35\n",
       "4           jake@smith.com    Jake Smith            20"
      ]
     },
     "execution_count": 42,
     "metadata": {},
     "output_type": "execute_result"
    }
   ],
   "source": [
    "customers_df"
   ]
  },
  {
   "cell_type": "code",
   "execution_count": 44,
   "id": "dd23a798-a6a6-42fe-95cb-3e0f70387112",
   "metadata": {},
   "outputs": [
    {
     "data": {
      "text/html": [
       "<div>\n",
       "<style scoped>\n",
       "    .dataframe tbody tr th:only-of-type {\n",
       "        vertical-align: middle;\n",
       "    }\n",
       "\n",
       "    .dataframe tbody tr th {\n",
       "        vertical-align: top;\n",
       "    }\n",
       "\n",
       "    .dataframe thead th {\n",
       "        text-align: right;\n",
       "    }\n",
       "</style>\n",
       "<table border=\"1\" class=\"dataframe\">\n",
       "  <thead>\n",
       "    <tr style=\"text-align: right;\">\n",
       "      <th></th>\n",
       "      <th></th>\n",
       "      <th>Customer_Name</th>\n",
       "      <th>Customer_Age</th>\n",
       "    </tr>\n",
       "    <tr>\n",
       "      <th>Customer_ID</th>\n",
       "      <th>Customer_Email</th>\n",
       "      <th></th>\n",
       "      <th></th>\n",
       "    </tr>\n",
       "  </thead>\n",
       "  <tbody>\n",
       "    <tr>\n",
       "      <th>1</th>\n",
       "      <th>john@doe.com</th>\n",
       "      <td>John Doe</td>\n",
       "      <td>25</td>\n",
       "    </tr>\n",
       "    <tr>\n",
       "      <th>2</th>\n",
       "      <th>jane@doe.com</th>\n",
       "      <td>Jane Doe</td>\n",
       "      <td>30</td>\n",
       "    </tr>\n",
       "    <tr>\n",
       "      <th>3</th>\n",
       "      <th>jim@brown.com</th>\n",
       "      <td>Jim Brown</td>\n",
       "      <td>35</td>\n",
       "    </tr>\n",
       "  </tbody>\n",
       "</table>\n",
       "</div>"
      ],
      "text/plain": [
       "                           Customer_Name  Customer_Age\n",
       "Customer_ID Customer_Email                            \n",
       "1           john@doe.com        John Doe            25\n",
       "2           jane@doe.com        Jane Doe            30\n",
       "3           jim@brown.com      Jim Brown            35"
      ]
     },
     "execution_count": 44,
     "metadata": {},
     "output_type": "execute_result"
    }
   ],
   "source": [
    "customers_df[customers_df.index.isin([1,2,3], level=\"Customer_ID\")]"
   ]
  },
  {
   "cell_type": "markdown",
   "id": "beacbca1-175a-45fc-9e02-69bf37338fe0",
   "metadata": {},
   "source": [
    "**Use merge, groupby, and other necessary functions to answer these questions:\n",
    "a. Which customer(s) bought the most expensive product?\n",
    "b. On which date did we get the highest number of sales?\n",
    "c. What is the average price of the products purchased by each customer?\n",
    "Remember to use multi-indexing, groupby, and date-time concepts wherever necessary.**"
   ]
  },
  {
   "cell_type": "code",
   "execution_count": 47,
   "id": "f011077d-27ef-46b3-855c-497548a279c3",
   "metadata": {},
   "outputs": [],
   "source": [
    "super_merge = pd.merge(products_df, sales_df, on=\"Product_ID\")"
   ]
  },
  {
   "cell_type": "code",
   "execution_count": 49,
   "id": "7e3478ed-9b1a-4872-9075-904cd54e34cf",
   "metadata": {},
   "outputs": [],
   "source": [
    "super_merge = pd.merge(super_merge, customers_df, on=\"Customer_ID\")"
   ]
  },
  {
   "cell_type": "code",
   "execution_count": 51,
   "id": "84f011f6-8cda-4a4c-9dc5-4bebd5f6a9b6",
   "metadata": {},
   "outputs": [
    {
     "data": {
      "text/html": [
       "<div>\n",
       "<style scoped>\n",
       "    .dataframe tbody tr th:only-of-type {\n",
       "        vertical-align: middle;\n",
       "    }\n",
       "\n",
       "    .dataframe tbody tr th {\n",
       "        vertical-align: top;\n",
       "    }\n",
       "\n",
       "    .dataframe thead th {\n",
       "        text-align: right;\n",
       "    }\n",
       "</style>\n",
       "<table border=\"1\" class=\"dataframe\">\n",
       "  <thead>\n",
       "    <tr style=\"text-align: right;\">\n",
       "      <th></th>\n",
       "      <th>Product_ID</th>\n",
       "      <th>Product_Name</th>\n",
       "      <th>Product_Price</th>\n",
       "      <th>Sale_ID</th>\n",
       "      <th>Sale_Date</th>\n",
       "      <th>Customer_ID</th>\n",
       "      <th>Customer_Name</th>\n",
       "      <th>Customer_Age</th>\n",
       "    </tr>\n",
       "  </thead>\n",
       "  <tbody>\n",
       "    <tr>\n",
       "      <th>0</th>\n",
       "      <td>1</td>\n",
       "      <td>iPhone 12</td>\n",
       "      <td>999</td>\n",
       "      <td>1</td>\n",
       "      <td>2021-01-01</td>\n",
       "      <td>1</td>\n",
       "      <td>John Doe</td>\n",
       "      <td>25</td>\n",
       "    </tr>\n",
       "    <tr>\n",
       "      <th>1</th>\n",
       "      <td>1</td>\n",
       "      <td>iPhone 12</td>\n",
       "      <td>999</td>\n",
       "      <td>2</td>\n",
       "      <td>2021-02-01</td>\n",
       "      <td>2</td>\n",
       "      <td>Jane Doe</td>\n",
       "      <td>30</td>\n",
       "    </tr>\n",
       "    <tr>\n",
       "      <th>2</th>\n",
       "      <td>1</td>\n",
       "      <td>iPhone 12</td>\n",
       "      <td>999</td>\n",
       "      <td>7</td>\n",
       "      <td>2020-01-01</td>\n",
       "      <td>4</td>\n",
       "      <td>Jake Smith</td>\n",
       "      <td>20</td>\n",
       "    </tr>\n",
       "    <tr>\n",
       "      <th>3</th>\n",
       "      <td>2</td>\n",
       "      <td>Samsung S21</td>\n",
       "      <td>899</td>\n",
       "      <td>3</td>\n",
       "      <td>2021-02-15</td>\n",
       "      <td>3</td>\n",
       "      <td>Jim Brown</td>\n",
       "      <td>35</td>\n",
       "    </tr>\n",
       "    <tr>\n",
       "      <th>4</th>\n",
       "      <td>2</td>\n",
       "      <td>Samsung S21</td>\n",
       "      <td>899</td>\n",
       "      <td>4</td>\n",
       "      <td>2020-03-01</td>\n",
       "      <td>2</td>\n",
       "      <td>Jane Doe</td>\n",
       "      <td>30</td>\n",
       "    </tr>\n",
       "    <tr>\n",
       "      <th>5</th>\n",
       "      <td>3</td>\n",
       "      <td>Pixel 5</td>\n",
       "      <td>699</td>\n",
       "      <td>5</td>\n",
       "      <td>2020-04-01</td>\n",
       "      <td>3</td>\n",
       "      <td>Jim Brown</td>\n",
       "      <td>35</td>\n",
       "    </tr>\n",
       "    <tr>\n",
       "      <th>6</th>\n",
       "      <td>3</td>\n",
       "      <td>Pixel 5</td>\n",
       "      <td>699</td>\n",
       "      <td>6</td>\n",
       "      <td>2020-02-15</td>\n",
       "      <td>4</td>\n",
       "      <td>Jake Smith</td>\n",
       "      <td>20</td>\n",
       "    </tr>\n",
       "  </tbody>\n",
       "</table>\n",
       "</div>"
      ],
      "text/plain": [
       "   Product_ID Product_Name  Product_Price  Sale_ID  Sale_Date  Customer_ID  \\\n",
       "0           1    iPhone 12            999        1 2021-01-01            1   \n",
       "1           1    iPhone 12            999        2 2021-02-01            2   \n",
       "2           1    iPhone 12            999        7 2020-01-01            4   \n",
       "3           2  Samsung S21            899        3 2021-02-15            3   \n",
       "4           2  Samsung S21            899        4 2020-03-01            2   \n",
       "5           3      Pixel 5            699        5 2020-04-01            3   \n",
       "6           3      Pixel 5            699        6 2020-02-15            4   \n",
       "\n",
       "  Customer_Name  Customer_Age  \n",
       "0      John Doe            25  \n",
       "1      Jane Doe            30  \n",
       "2    Jake Smith            20  \n",
       "3     Jim Brown            35  \n",
       "4      Jane Doe            30  \n",
       "5     Jim Brown            35  \n",
       "6    Jake Smith            20  "
      ]
     },
     "execution_count": 51,
     "metadata": {},
     "output_type": "execute_result"
    }
   ],
   "source": [
    "super_merge"
   ]
  },
  {
   "cell_type": "code",
   "execution_count": 53,
   "id": "af9b630f-9515-4cae-b714-acbc19d824f5",
   "metadata": {},
   "outputs": [],
   "source": [
    "max_value = super_merge.groupby(\"Customer_Name\")[\"Product_Price\"].max().max()"
   ]
  },
  {
   "cell_type": "code",
   "execution_count": 55,
   "id": "1ea19dc5-776f-4073-8023-6e4a0c61a075",
   "metadata": {},
   "outputs": [
    {
     "data": {
      "text/plain": [
       "0      John Doe\n",
       "1      Jane Doe\n",
       "2    Jake Smith\n",
       "Name: Customer_Name, dtype: object"
      ]
     },
     "execution_count": 55,
     "metadata": {},
     "output_type": "execute_result"
    }
   ],
   "source": [
    "super_merge[super_merge[\"Product_Price\"] == max_value][\"Customer_Name\"]"
   ]
  },
  {
   "cell_type": "markdown",
   "id": "4d7ee6e1-6c43-46d3-9ebe-050d21cf110e",
   "metadata": {},
   "source": [
    "**b. On which date did we get the highest number of sales?** אין פה שום תאריך שמופיע פעמיים, הלכתי לפי שנתי"
   ]
  },
  {
   "cell_type": "code",
   "execution_count": 58,
   "id": "3f51394b-5df3-44ce-a4d5-64e98eb311b2",
   "metadata": {},
   "outputs": [
    {
     "data": {
      "text/plain": [
       "0   2021-01-01\n",
       "1   2021-02-01\n",
       "2   2020-01-01\n",
       "3   2021-02-15\n",
       "4   2020-03-01\n",
       "5   2020-04-01\n",
       "6   2020-02-15\n",
       "Name: Sale_Date, dtype: datetime64[ns]"
      ]
     },
     "execution_count": 58,
     "metadata": {},
     "output_type": "execute_result"
    }
   ],
   "source": [
    "super_merge[\"Sale_Date\"]"
   ]
  },
  {
   "cell_type": "code",
   "execution_count": 60,
   "id": "f1aa83b8-79f8-4f02-b6a5-195ca814cd75",
   "metadata": {},
   "outputs": [],
   "source": [
    "super_duper_merge = super_merge.copy()"
   ]
  },
  {
   "cell_type": "code",
   "execution_count": 62,
   "id": "4ba0fc93-6156-47ac-889b-29cee375c996",
   "metadata": {},
   "outputs": [],
   "source": [
    "super_duper_merge.set_index(\"Sale_Date\", inplace=True)"
   ]
  },
  {
   "cell_type": "code",
   "execution_count": 76,
   "id": "f8ee6e4a-6712-4158-92cb-2250e728f94f",
   "metadata": {
    "scrolled": true
   },
   "outputs": [
    {
     "data": {
      "text/plain": [
       "Timestamp('2020-12-31 00:00:00')"
      ]
     },
     "execution_count": 76,
     "metadata": {},
     "output_type": "execute_result"
    }
   ],
   "source": [
    "date = super_duper_merge.resample(rule=\"YE\")[\"Sale_ID\"].count()\n",
    "date.index[0]"
   ]
  },
  {
   "cell_type": "markdown",
   "id": "18b48cbd-d0f6-405e-bc0e-d44174e244f2",
   "metadata": {},
   "source": [
    "**c. What is the average price of the products purchased by each customer?**"
   ]
  },
  {
   "cell_type": "code",
   "execution_count": 323,
   "id": "0acc194b-1083-4df1-9fc7-f4e73be9b8f6",
   "metadata": {},
   "outputs": [
    {
     "data": {
      "text/plain": [
       "Customer_Name\n",
       "Jake Smith    849.0\n",
       "Jane Doe      949.0\n",
       "Jim Brown     799.0\n",
       "John Doe      999.0\n",
       "Name: Product_Price, dtype: float64"
      ]
     },
     "execution_count": 323,
     "metadata": {},
     "output_type": "execute_result"
    }
   ],
   "source": [
    "super_merge.groupby(\"Customer_Name\")[\"Product_Price\"].mean()"
   ]
  },
  {
   "cell_type": "code",
   "execution_count": null,
   "id": "f4b9f03b-d117-4fe4-bd47-9d0a6ba35e52",
   "metadata": {},
   "outputs": [],
   "source": []
  }
 ],
 "metadata": {
  "kernelspec": {
   "display_name": "Python [conda env:base] *",
   "language": "python",
   "name": "conda-base-py"
  },
  "language_info": {
   "codemirror_mode": {
    "name": "ipython",
    "version": 3
   },
   "file_extension": ".py",
   "mimetype": "text/x-python",
   "name": "python",
   "nbconvert_exporter": "python",
   "pygments_lexer": "ipython3",
   "version": "3.12.7"
  }
 },
 "nbformat": 4,
 "nbformat_minor": 5
}
